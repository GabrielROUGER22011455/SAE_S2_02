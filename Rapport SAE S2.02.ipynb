{
 "cells": [
  {
   "cell_type": "markdown",
   "id": "6f04f881",
   "metadata": {},
   "source": [
    "# Rapport SAE S2.02"
   ]
  },
  {
   "cell_type": "markdown",
   "id": "aad82e72",
   "metadata": {},
   "source": [
    "Groupe G4-E : \n",
    "    Bougeard Bastien,\n",
    "    Delin Alexis,\n",
    "    Rouge Gabriel"
   ]
  },
  {
   "cell_type": "markdown",
   "id": "66df0521",
   "metadata": {},
   "source": [
    "## Partie 1 : PageRank - version itérative, premier exemple"
   ]
  },
  {
   "cell_type": "markdown",
   "id": "346c764f",
   "metadata": {},
   "source": [
    "### 1)"
   ]
  },
  {
   "cell_type": "markdown",
   "id": "035dedc7",
   "metadata": {},
   "source": [
    "Réponse"
   ]
  },
  {
   "cell_type": "markdown",
   "id": "343a5b80",
   "metadata": {},
   "source": [
    "### 2)"
   ]
  },
  {
   "cell_type": "code",
   "execution_count": null,
   "id": "801343d1",
   "metadata": {},
   "outputs": [],
   "source": [
    "# Algorithme"
   ]
  },
  {
   "cell_type": "markdown",
   "id": "33fa64e1",
   "metadata": {},
   "source": [
    "### 3)"
   ]
  },
  {
   "cell_type": "markdown",
   "id": "7f9a868e",
   "metadata": {},
   "source": [
    "Réponse"
   ]
  },
  {
   "cell_type": "markdown",
   "id": "11837a74",
   "metadata": {},
   "source": [
    "## Partie 2 : PageRank - version itérative, deuxième exemple"
   ]
  },
  {
   "cell_type": "markdown",
   "id": "797a9af0",
   "metadata": {},
   "source": [
    "### 1)"
   ]
  },
  {
   "cell_type": "code",
   "execution_count": null,
   "id": "330572c4",
   "metadata": {},
   "outputs": [],
   "source": [
    "# Algorithme"
   ]
  },
  {
   "cell_type": "markdown",
   "id": "598540c9",
   "metadata": {},
   "source": [
    "### 2)"
   ]
  },
  {
   "cell_type": "code",
   "execution_count": 1,
   "id": "5e85ca47",
   "metadata": {},
   "outputs": [],
   "source": [
    "# Algorithme"
   ]
  },
  {
   "cell_type": "markdown",
   "id": "eefc3690",
   "metadata": {},
   "source": [
    "## Partie 3 : PageRank - version itérative, analyse"
   ]
  },
  {
   "cell_type": "markdown",
   "id": "6c7ccfa0",
   "metadata": {},
   "source": [
    "### 1)"
   ]
  },
  {
   "cell_type": "markdown",
   "id": "e5c8be3e",
   "metadata": {},
   "source": [
    "Analyse"
   ]
  },
  {
   "cell_type": "markdown",
   "id": "8195565a",
   "metadata": {},
   "source": [
    "### 2)"
   ]
  },
  {
   "cell_type": "markdown",
   "id": "880d7e7e",
   "metadata": {},
   "source": [
    "Analyse"
   ]
  },
  {
   "cell_type": "markdown",
   "id": "ee44bfba",
   "metadata": {},
   "source": [
    "### 3)"
   ]
  },
  {
   "cell_type": "markdown",
   "id": "71d68335",
   "metadata": {},
   "source": [
    "Réponse"
   ]
  },
  {
   "cell_type": "markdown",
   "id": "1020e9c1",
   "metadata": {},
   "source": [
    "### 4)"
   ]
  },
  {
   "cell_type": "code",
   "execution_count": null,
   "id": "9da209be",
   "metadata": {},
   "outputs": [],
   "source": [
    "Algorithme"
   ]
  },
  {
   "cell_type": "markdown",
   "id": "85106e08",
   "metadata": {},
   "source": [
    "## Partie 4 : PageRank - version itérative, analyse"
   ]
  },
  {
   "cell_type": "markdown",
   "id": "444bdf9a",
   "metadata": {},
   "source": [
    "### 1)"
   ]
  },
  {
   "cell_type": "code",
   "execution_count": null,
   "id": "1a393c39",
   "metadata": {},
   "outputs": [],
   "source": [
    "# Matrices"
   ]
  },
  {
   "cell_type": "markdown",
   "id": "9aa991f4",
   "metadata": {},
   "source": [
    "### 2)"
   ]
  },
  {
   "cell_type": "code",
   "execution_count": null,
   "id": "be6f557c",
   "metadata": {},
   "outputs": [],
   "source": [
    "Réponse"
   ]
  },
  {
   "cell_type": "markdown",
   "id": "ed973a2b",
   "metadata": {},
   "source": [
    "## Partie 5 : PageRank - calcul direct des scores et comparaison d'algorithmes"
   ]
  },
  {
   "cell_type": "markdown",
   "id": "9cec6e7b",
   "metadata": {},
   "source": [
    "### 1)"
   ]
  },
  {
   "cell_type": "code",
   "execution_count": null,
   "id": "35f7376d",
   "metadata": {},
   "outputs": [],
   "source": [
    "Algorithme"
   ]
  },
  {
   "cell_type": "markdown",
   "id": "cc964ceb",
   "metadata": {},
   "source": [
    "### 2)"
   ]
  },
  {
   "cell_type": "code",
   "execution_count": null,
   "id": "090db351",
   "metadata": {},
   "outputs": [],
   "source": [
    "Algorithme"
   ]
  },
  {
   "cell_type": "markdown",
   "id": "123bb441",
   "metadata": {},
   "source": [
    "### 3)"
   ]
  },
  {
   "cell_type": "markdown",
   "id": "15039b92",
   "metadata": {},
   "source": [
    "Comparaison"
   ]
  },
  {
   "cell_type": "markdown",
   "id": "dede1986",
   "metadata": {},
   "source": [
    "### 4)"
   ]
  },
  {
   "cell_type": "markdown",
   "id": "b6f0258e",
   "metadata": {},
   "source": [
    "Comparaison"
   ]
  },
  {
   "cell_type": "markdown",
   "id": "54efc846",
   "metadata": {},
   "source": [
    "## Partie 6 : PageRank - matrice du langage"
   ]
  },
  {
   "cell_type": "markdown",
   "id": "5a148806",
   "metadata": {},
   "source": [
    "Bonus"
   ]
  }
 ],
 "metadata": {
  "kernelspec": {
   "display_name": "Python 3 (ipykernel)",
   "language": "python",
   "name": "python3"
  },
  "language_info": {
   "codemirror_mode": {
    "name": "ipython",
    "version": 3
   },
   "file_extension": ".py",
   "mimetype": "text/x-python",
   "name": "python",
   "nbconvert_exporter": "python",
   "pygments_lexer": "ipython3",
   "version": "3.10.9"
  }
 },
 "nbformat": 4,
 "nbformat_minor": 5
}
