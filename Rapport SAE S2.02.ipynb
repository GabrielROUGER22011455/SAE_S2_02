{
 "cells": [
  {
   "cell_type": "markdown",
   "id": "6f04f881",
   "metadata": {},
   "source": [
    "# Rapport SAE S2.02"
   ]
  },
  {
   "cell_type": "code",
   "execution_count": 1,
   "id": "cdb0fdf0",
   "metadata": {},
   "outputs": [],
   "source": [
    "# Importations des bibliothèques utilisées dans le rapport\n",
    "import numpy as np\n",
    "import random"
   ]
  },
  {
   "cell_type": "markdown",
   "id": "aad82e72",
   "metadata": {},
   "source": [
    "Groupe G4-E : \n",
    "    Bougeard Bastien,\n",
    "    Delin Alexis,\n",
    "    Rouge Gabriel"
   ]
  },
  {
   "cell_type": "markdown",
   "id": "66df0521",
   "metadata": {},
   "source": [
    "## Partie 1 : PageRank - version itérative, premier exemple"
   ]
  },
  {
   "cell_type": "markdown",
   "id": "346c764f",
   "metadata": {},
   "source": [
    "### 1)"
   ]
  },
  {
   "cell_type": "markdown",
   "id": "035dedc7",
   "metadata": {},
   "source": [
    "Une fois ce graphe converti en matrice d'adjacence, nous pouvons lui appliquer l'algorithme de la puissance itérée. Il sert à trouver une approximation du vecteur propre d'une matrice. Ainsi, chaque valeur propre du vecteur correspond à un sommet, soit au score de la page Web signifiée par ledit sommet. Ainsi, cet algorithme permet de trouver le score approximatif de chaque site traduit sur le graphe donné."
   ]
  },
  {
   "cell_type": "markdown",
   "id": "343a5b80",
   "metadata": {},
   "source": [
    "### 2)"
   ]
  },
  {
   "cell_type": "code",
   "execution_count": 16,
   "id": "801343d1",
   "metadata": {},
   "outputs": [],
   "source": [
    "def norme (X) :\n",
    "    # Donne la norme de X\n",
    "    # X : vecteur\n",
    "    res = 0\n",
    "    for i in X :\n",
    "        res += i**2\n",
    "    return np.sqrt(res)\n",
    "\n",
    "def matriceDeTransition(q):\n",
    "    # Donne la matrice de tranisition correspondante\n",
    "    # q : matrice d'adjacence \n",
    "    # N : ordre de la matrice q\n",
    "    # Q : matrice de transition (résultat)\n",
    "    #  - .dot permet de faire un produit de deux np.array\n",
    "    #  - .sum fait la somme des éléments d'un np.array\n",
    "    N = len(q)\n",
    "    Q = np.zeros((N,N))\n",
    "    for i in range(N):\n",
    "        for j in range(N):\n",
    "            Nj = np.sum(q[i])\n",
    "            if Nj!=0:\n",
    "                Q[i][j] = q[i][j]/Nj\n",
    "    return Q\n",
    "\n",
    "def puissanceIteree(M, seuil):\n",
    "    # Algorithme de puissance itérée\n",
    "    # M : matrice\n",
    "    # x : vecteur pris aléatoirement dans M\n",
    "    # x1 : vecteur\n",
    "    # seuil : très petit nombre décimal tel 1e-10\n",
    "    x = M[random.randint(0,len(M)-1)]\n",
    "    x1 = 1/norme(x.dot(M))*x.dot(M)\n",
    "    while norme(x1-x) > seuil  :\n",
    "        x = x1\n",
    "        x1 = 1/norme(x.dot(M))*x.dot(M)\n",
    "    return x1\n"
   ]
  },
  {
   "cell_type": "code",
   "execution_count": 17,
   "id": "694a4ced",
   "metadata": {},
   "outputs": [
    {
     "name": "stdout",
     "output_type": "stream",
     "text": [
      "[0.41959068 0.16783627 0.16783627 0.16783627 0.16783627 0.50350881\n",
      " 0.16783627 0.33567254 0.16783627 0.41959068 0.16783627 0.16783627\n",
      " 0.16783627 0.16783627]\n"
     ]
    }
   ],
   "source": [
    "# Matrice d'adjascence du graphe donné où N = 14\n",
    "graph1 = np.array([[0,1,1,1,1,1,0,0,0,0,0,0,0,0]\n",
    "                  ,[1,0,1,0,0,0,0,0,0,0,0,0,0,0]\n",
    "                  ,[1,0,0,1,0,0,0,0,0,0,0,0,0,0]\n",
    "                  ,[1,0,0,0,1,0,0,0,0,0,0,0,0,0]\n",
    "                  ,[1,1,0,0,0,0,0,0,0,0,0,0,0,0]\n",
    "                  ,[0,0,0,0,0,0,1,1,1,0,0,0,0,0]\n",
    "                  ,[1,0,0,0,0,0,0,1,0,0,0,0,0,0]\n",
    "                  ,[0,0,0,0,0,1,0,0,0,0,0,0,0,0]\n",
    "                  ,[0,0,0,0,0,0,0,1,0,1,0,0,0,0]\n",
    "                  ,[0,0,0,0,0,1,0,0,0,0,1,1,1,1]\n",
    "                  ,[0,0,0,0,0,0,0,0,0,1,0,1,0,0]\n",
    "                  ,[0,0,0,0,0,0,0,0,0,1,0,0,1,0]\n",
    "                  ,[0,0,0,0,0,0,0,0,0,1,0,0,0,1]\n",
    "                  ,[0,0,0,0,0,0,0,0,0,1,1,0,0,0]])\n",
    "\n",
    "tmpMat = matriceDeTransition(graph1)\n",
    "print(puissanceIteree(tmpMat, 1e-10))"
   ]
  },
  {
   "cell_type": "markdown",
   "id": "33fa64e1",
   "metadata": {},
   "source": [
    "### 3)"
   ]
  },
  {
   "cell_type": "markdown",
   "id": "7f9a868e",
   "metadata": {},
   "source": [
    "Le vecteur propre est comme attendu d'ordre N (14) soit l'ordre du graphe que représente la matrice d'adjacence. Ainsi, chaque valeur propre correspond au score d'un sommet du graphe. \n",
    "\n",
    "On observe en effet que le sommet 1, 6 et 8 ont un score plus élevé que les autres puisqu'ils ont une quantité importante d'arcs orientés vers eux. A l'inverse, les autres sommets ont tous un seul arc entrant et ont donc tous le même score ( environ 1,7 ).\n",
    "\n",
    "Puisque le résultat est cohérent, on en déduit que l'algorithme implémenté fonctionne, jusqu'à preuve du contraire."
   ]
  },
  {
   "cell_type": "markdown",
   "id": "11837a74",
   "metadata": {},
   "source": [
    "## Partie 2 : PageRank - version itérative, deuxième exemple"
   ]
  },
  {
   "cell_type": "markdown",
   "id": "797a9af0",
   "metadata": {},
   "source": [
    "### 1)"
   ]
  },
  {
   "cell_type": "code",
   "execution_count": 18,
   "id": "330572c4",
   "metadata": {},
   "outputs": [],
   "source": [
    "# Matrice d'adjascence du graphe donné où N = 5\n",
    "graph2 = np.array([[0,0,0,0,0],\n",
    "                  [1,0,0,0,0],\n",
    "                  [1,0,0,0,0],\n",
    "                  [1,1,1,0,0],\n",
    "                  [1,1,0,0,0]])"
   ]
  },
  {
   "cell_type": "code",
   "execution_count": 19,
   "id": "e5ca9399",
   "metadata": {},
   "outputs": [
    {
     "name": "stdout",
     "output_type": "stream",
     "text": [
      "[nan nan nan nan nan]\n"
     ]
    },
    {
     "name": "stderr",
     "output_type": "stream",
     "text": [
      "/tmp/ipykernel_16688/3374912937.py:35: RuntimeWarning: divide by zero encountered in double_scalars\n",
      "  x1 = 1/norme(x.dot(M))*x.dot(M)\n",
      "/tmp/ipykernel_16688/3374912937.py:35: RuntimeWarning: invalid value encountered in multiply\n",
      "  x1 = 1/norme(x.dot(M))*x.dot(M)\n"
     ]
    }
   ],
   "source": [
    "tmpMat = matriceDeTransition(graph2)\n",
    "print(puissanceIteree(tmpMat, 1e-10))"
   ]
  },
  {
   "cell_type": "markdown",
   "id": "3940923b",
   "metadata": {},
   "source": [
    "On observe que la fonction provoque avec ce graphe en paramètre un message d'erreur de type division par 0. \n",
    "\n",
    "Le seul endroit où une division est faite est à cette ligne : \n",
    "\n",
    "    x1 = 1/norme(x.dot(M))*x.dot(M)\n",
    "Il n'y a qu'une seule division dans cette ligne. Ainsi, pour que \"1/norme(x.dot(M))\\*x.dot(M)\" soit égal à 0, soit le produit de M et de x est nul, soit la norme de ce produit est nulle. La fonction norme(X) n'effectue aucune opération susceptible de rendre son résultat nul (aucune addition/soustraction, ...). On en conclue qu'il s'agit du produit de x et M qui est nul, ainsi, au moins l'une de ces deux valeur est nulle. Rappelons que x est un vecteur pris aléatoirement dans la matrice M.\n",
    "\n",
    "On remarque que la matrice d'adjacence de ce graphe présente en effet au moins une entrée composée de 5 zéros (où N = 5). Il est donc certain que x prenne à un moment donné la valeur de [0,0,0,0,0]. Là est l'origine de l'erreur.\n",
    "\n",
    "On en conclue que notre algorithme est à revoir puisqu'il ne devrait pas présenter d'erreur. Des modifications à la fonction \"matriceDeTransition(q)\" sont à apporter."
   ]
  },
  {
   "cell_type": "markdown",
   "id": "598540c9",
   "metadata": {},
   "source": [
    "### 2)"
   ]
  },
  {
   "cell_type": "code",
   "execution_count": 20,
   "id": "5e85ca47",
   "metadata": {},
   "outputs": [],
   "source": [
    "def matriceDeTransitionV2(p, alpha):\n",
    "    # Donne la matrice de tranisition correspondante, version améliorée\n",
    "    # p : matrice d'adjacence \n",
    "    # N : ordre de la matrice p\n",
    "    # P : matrice de transition (résultat)\n",
    "    # alpha : facteur d'amortissement\n",
    "    N = len(p)\n",
    "    P = np.zeros((N,N))\n",
    "    for i in range(N):\n",
    "        for j in range(N):\n",
    "            Nj = np.count_nonzero(p[i])\n",
    "            if Nj!=0:\n",
    "                P[i][j] = alpha*p[i][j]+((1-alpha)/N)\n",
    "            else:\n",
    "                P[i][j] = 1/N\n",
    "    return P"
   ]
  },
  {
   "cell_type": "code",
   "execution_count": 21,
   "id": "cafd80cf",
   "metadata": {},
   "outputs": [
    {
     "name": "stdout",
     "output_type": "stream",
     "text": [
      "[0.848723   0.38834904 0.27552341 0.16269779 0.16269779]\n"
     ]
    }
   ],
   "source": [
    "tmpMat = matriceDeTransitionV2(graph2, 0.85)\n",
    "print(puissanceIteree(tmpMat, 1e-10))"
   ]
  },
  {
   "cell_type": "markdown",
   "id": "df9fbfd3",
   "metadata": {},
   "source": [
    "Avec cette nouvelle matrice de tansition, le problème rencontré ne survient plus. \n",
    "\n",
    "On remarque encore une fois que le score est cohérent ; le sommet 1 a le plus haut score et la plus grande quantité d'arcs entrants, les sommets 4 et 5 n'ont aucun arc entrant et ont le plus petit score... \n",
    "\n",
    "Ainsi, et encore une fois jusqu'à preuve du contraire, on en déduit que l'algorithme fonctionne. "
   ]
  },
  {
   "cell_type": "markdown",
   "id": "ede967dd",
   "metadata": {},
   "source": [
    "Formons de cette manière la fonction PageRank qui sera utilisée dans le reste du rapport : "
   ]
  },
  {
   "cell_type": "code",
   "execution_count": 22,
   "id": "f9c01f84",
   "metadata": {},
   "outputs": [],
   "source": [
    "def PageRank (matrice, alpha, seuil) :\n",
    "    return puissanceIteree(matriceDeTransitionV2(matrice, alpha), seuil)"
   ]
  },
  {
   "cell_type": "markdown",
   "id": "eefc3690",
   "metadata": {},
   "source": [
    "## Partie 3 : PageRank - version itérative, analyse"
   ]
  },
  {
   "cell_type": "markdown",
   "id": "6c7ccfa0",
   "metadata": {},
   "source": [
    "### 1) Influence du critère d'arrêt (seuil)"
   ]
  },
  {
   "cell_type": "markdown",
   "id": "e5c8be3e",
   "metadata": {},
   "source": [
    "Pour analyser l'influence du seuil dans l'algorithme de puissance iterée, nous devons prendre un seul graphe  et un seul facteur d'amortissement sur lesquels on va faire varier le seuil afin d'observer les résultats.\n",
    "\n",
    "Ensuite, nous ferons une conclusion en comparant ces résultats et déduisant le sens de ces différences."
   ]
  },
  {
   "cell_type": "markdown",
   "id": "c4dc3ab9",
   "metadata": {},
   "source": [
    "##### Variation avec seuil entre 1e-2 et 1e-10 : seuil petit"
   ]
  },
  {
   "cell_type": "code",
   "execution_count": 9,
   "id": "a4aa273c",
   "metadata": {},
   "outputs": [
    {
     "name": "stdout",
     "output_type": "stream",
     "text": [
      "Seuil = 1e- 2  : \n",
      " [0.34677892 0.33475327 0.33475327 0.33475327 0.65276494 0.33876182\n",
      " 0.01273304 0.02075014 0.01273304 0.02876724 0.01674159 0.01674159\n",
      " 0.01674159 0.01674159]\n",
      "Seuil = 1e- 4  : \n",
      " [0.02876724 0.01674159 0.01674159 0.01674159 0.01674159 0.33876182\n",
      " 0.01273304 0.02075014 0.01273304 0.34677892 0.33475327 0.33475327\n",
      " 0.33475327 0.65276494]\n",
      "Seuil = 1e- 6  : \n",
      " [0.34677892 0.33475327 0.33475327 0.65276494 0.33475327 0.33876182\n",
      " 0.01273304 0.02075014 0.01273304 0.02876724 0.01674159 0.01674159\n",
      " 0.01674159 0.01674159]\n",
      "Seuil = 1e- 8  : \n",
      " [0.34677892 0.33475327 0.33475327 0.65276494 0.33475327 0.33876182\n",
      " 0.01273304 0.02075014 0.01273304 0.02876724 0.01674159 0.01674159\n",
      " 0.01674159 0.01674159]\n",
      "Seuil = 1e- 10  : \n",
      " [0.02876724 0.01674159 0.01674159 0.01674159 0.01674159 0.33876182\n",
      " 0.01273304 0.02075014 0.01273304 0.34677892 0.33475327 0.33475327\n",
      " 0.33475327 0.65276494]\n"
     ]
    }
   ],
   "source": [
    "for i in range (2,12,2) : \n",
    "    seuil = 1*10**i\n",
    "    print(\"Seuil = 1e-\",i,\" : \\n\",PageRank(graph1, 0.85, seuil))"
   ]
  },
  {
   "cell_type": "markdown",
   "id": "b4ca1179",
   "metadata": {},
   "source": [
    "##### Variation avec seuil entre 1e-20 et 1e-200 : seuil très petit"
   ]
  },
  {
   "cell_type": "code",
   "execution_count": 10,
   "id": "603de220",
   "metadata": {},
   "outputs": [
    {
     "name": "stdout",
     "output_type": "stream",
     "text": [
      "Seuil = 1e- 40  : \n",
      " [0.02876724 0.01674159 0.01674159 0.01674159 0.01674159 0.33876182\n",
      " 0.01273304 0.02075014 0.01273304 0.34677892 0.33475327 0.33475327\n",
      " 0.33475327 0.65276494]\n",
      "Seuil = 1e- 80  : \n",
      " [0.34677892 0.33475327 0.33475327 0.65276494 0.33475327 0.33876182\n",
      " 0.01273304 0.02075014 0.01273304 0.02876724 0.01674159 0.01674159\n",
      " 0.01674159 0.01674159]\n",
      "Seuil = 1e- 120  : \n",
      " [0.34677892 0.33475327 0.33475327 0.65276494 0.33475327 0.33876182\n",
      " 0.01273304 0.02075014 0.01273304 0.02876724 0.01674159 0.01674159\n",
      " 0.01674159 0.01674159]\n",
      "Seuil = 1e- 160  : \n",
      " [0.34677892 0.33475327 0.65276494 0.33475327 0.33475327 0.33876182\n",
      " 0.01273304 0.02075014 0.01273304 0.02876724 0.01674159 0.01674159\n",
      " 0.01674159 0.01674159]\n",
      "Seuil = 1e- 200  : \n",
      " [0.39115876 0.02313823 0.02313823 0.02313823 0.02313823 0.38221899\n",
      " 0.01866834 0.73682987 0.01866834 0.39115876 0.02313823 0.02313823\n",
      " 0.02313823 0.02313823]\n"
     ]
    }
   ],
   "source": [
    "for i in range (40,201,40) : \n",
    "    seuil = 1*10**i\n",
    "    print(\"Seuil = 1e-\",i,\" : \\n\",PageRank(graph1, 0.85, seuil))"
   ]
  },
  {
   "cell_type": "markdown",
   "id": "17385bda",
   "metadata": {},
   "source": [
    "##### Variation avec seuil entre 40 et 200 : seuil grand"
   ]
  },
  {
   "cell_type": "code",
   "execution_count": 11,
   "id": "b44fbd6c",
   "metadata": {},
   "outputs": [
    {
     "name": "stdout",
     "output_type": "stream",
     "text": [
      "Seuil = 2  : \n",
      " [0.03061174 0.01781503 0.01781503 0.01781503 0.01781503 0.69888447\n",
      " 0.01354946 0.0220806  0.01354946 0.03061174 0.35621697 0.35621697\n",
      " 0.35621697 0.35621697]\n",
      "Seuil = 4  : \n",
      " [0.02876724 0.01674159 0.01674159 0.01674159 0.01674159 0.33876182\n",
      " 0.01273304 0.02075014 0.01273304 0.34677892 0.33475327 0.65276494\n",
      " 0.33475327 0.33475327]\n",
      "Seuil = 6  : \n",
      " [0.02876724 0.01674159 0.01674159 0.01674159 0.01674159 0.33876182\n",
      " 0.01273304 0.02075014 0.01273304 0.34677892 0.33475327 0.65276494\n",
      " 0.33475327 0.33475327]\n",
      "Seuil = 8  : \n",
      " [0.34677892 0.65276494 0.33475327 0.33475327 0.33475327 0.33876182\n",
      " 0.01273304 0.02075014 0.01273304 0.02876724 0.01674159 0.01674159\n",
      " 0.01674159 0.01674159]\n",
      "Seuil = 10  : \n",
      " [0.03061174 0.35621697 0.35621697 0.35621697 0.35621697 0.69888447\n",
      " 0.01354946 0.0220806  0.01354946 0.03061174 0.01781503 0.01781503\n",
      " 0.01781503 0.01781503]\n"
     ]
    }
   ],
   "source": [
    "for i in range (2,12,2) : \n",
    "    seuil = i\n",
    "    print(\"Seuil =\",i,\" : \\n\",PageRank(graph1, 0.85, seuil))"
   ]
  },
  {
   "cell_type": "markdown",
   "id": "5914bd1a",
   "metadata": {},
   "source": [
    "##### Variation avec seuil entre 40 et 200 : seuil très grand"
   ]
  },
  {
   "cell_type": "code",
   "execution_count": 12,
   "id": "5876ca3e",
   "metadata": {},
   "outputs": [
    {
     "name": "stdout",
     "output_type": "stream",
     "text": [
      "Seuil = 40  : \n",
      " [0.02876724 0.01674159 0.01674159 0.01674159 0.01674159 0.33876182\n",
      " 0.01273304 0.02075014 0.01273304 0.34677892 0.65276494 0.33475327\n",
      " 0.33475327 0.33475327]\n",
      "Seuil = 80  : \n",
      " [0.34677892 0.33475327 0.33475327 0.33475327 0.65276494 0.33876182\n",
      " 0.01273304 0.02075014 0.01273304 0.02876724 0.01674159 0.01674159\n",
      " 0.01674159 0.01674159]\n",
      "Seuil = 120  : \n",
      " [0.02876724 0.01674159 0.01674159 0.01674159 0.01674159 0.33876182\n",
      " 0.01273304 0.02075014 0.01273304 0.34677892 0.33475327 0.33475327\n",
      " 0.65276494 0.33475327]\n",
      "Seuil = 160  : \n",
      " [0.81914142 0.21637143 0.21637143 0.21637143 0.21637143 0.02045034\n",
      " 0.21387031 0.21887255 0.21387031 0.02545258 0.01794922 0.01794922\n",
      " 0.01794922 0.01794922]\n",
      "Seuil = 200  : \n",
      " [0.81914142 0.21637143 0.21637143 0.21637143 0.21637143 0.02045034\n",
      " 0.21387031 0.21887255 0.21387031 0.02545258 0.01794922 0.01794922\n",
      " 0.01794922 0.01794922]\n"
     ]
    }
   ],
   "source": [
    "for i in range (40,201,40) : \n",
    "    print(\"Seuil =\",i,\" : \\n\",PageRank(graph1, 0.85, i))"
   ]
  },
  {
   "cell_type": "markdown",
   "id": "297d0e9e",
   "metadata": {},
   "source": [
    "Il est logique que au plus le seuil est petit, au plus l'approximation est proche du score exact. Ainsi, on prendra ce score comme référence pour observer l'écart des autres.\n",
    "\n",
    "En observation, on remarque que certains score oscillent puisqu'ils augmentent grandement puis réduisent grandement lorsqu'on augmente ou diminue le seuil. Voir : seuil de 1e-4 à 1e-10. On en déduit que le score véritable est dans cette intervalle. Si on se concentre sur le score du sommet 2, on voit qu'à un petit seuil le score oscille entre 0.652 et 0.016. Ensuite, si l'on regarde son score à un seuil de 1e-200 où le score est de 0.0167, notre hypothèse se confirme.\n",
    "\n",
    "Certains scores supposés bas sont anormalements élevés à certains seuils tandis que d'autres supposés hauts sont anormalements bas. Peut être notre algorithme présente-t-il un problème. \n",
    "\n",
    "On observe aussi qu'au plus le seuil est élevé, au plus les scores sont proches. Voir : seuil très grand. On constate que l'étendue pour le seuil à 200 par exemple va de 0.22 à 0.58 tandis que pour le seuil à 1e-200 elle va de 0.016 à 0.65. Cette propriété nous confirme qu'un seuil très bas est plus juste.\n",
    "\n",
    "Nous avons ainsi regardé une quantité suffisantes de plusieurs cas divers et avons apporté des conclusions à chacune de nos observations."
   ]
  },
  {
   "cell_type": "markdown",
   "id": "8195565a",
   "metadata": {},
   "source": [
    "### 2) Influence des Hubs et des Autorités"
   ]
  },
  {
   "cell_type": "markdown",
   "id": "880d7e7e",
   "metadata": {},
   "source": [
    "Pour cette analyse, nous devrons créer une nouvelle matrice d'adjacence qui représentera un graphe avec des hubs (sommet avec beaucoup d'arcs sortants) et des autorités (sommet avec beaucoup d'arcs entrants)."
   ]
  },
  {
   "cell_type": "code",
   "execution_count": 13,
   "id": "5774a96f",
   "metadata": {},
   "outputs": [],
   "source": [
    "graph3 = np.array([[0,1,1,1,1,1,0,0,0,0,0,0,0,0,0,1,1,0,1]\n",
    "                  ,[1,0,1,0,0,0,0,0,0,0,0,0,0,0,0,1,1,0,0]\n",
    "                  ,[1,0,0,1,0,0,0,0,0,0,0,0,0,0,0,0,1,0,0]\n",
    "                  ,[1,0,0,0,1,0,0,0,0,0,0,0,0,0,0,1,0,1,0]\n",
    "                  ,[1,1,0,0,0,0,0,0,0,0,0,0,0,0,0,1,1,0,0]\n",
    "                  ,[0,0,0,0,0,0,1,1,1,0,0,0,0,0,1,0,1,0,1]\n",
    "                  ,[1,0,0,0,0,0,0,1,0,0,0,0,0,0,1,0,0,0,1]\n",
    "                  ,[0,0,0,0,0,1,0,0,0,0,0,0,0,0,0,1,1,0,0]\n",
    "                  ,[0,0,0,0,0,0,0,1,0,1,0,0,0,0,0,1,1,1,0]\n",
    "                  ,[0,0,0,0,0,1,0,0,0,0,1,1,1,1,0,0,1,0,1]\n",
    "                  ,[0,0,0,0,0,0,0,0,0,1,0,1,0,0,0,0,1,0,0]\n",
    "                  ,[0,0,0,0,0,0,0,0,0,1,0,0,1,0,1,0,1,0,1]\n",
    "                  ,[0,0,0,0,0,0,0,0,0,1,0,0,0,1,0,1,1,1,0]\n",
    "                  ,[0,0,0,0,0,0,0,0,0,1,1,0,0,0,0,1,0,1,0]\n",
    "                  ,[1,1,1,1,1,0,1,0,1,1,1,1,0,1,0,1,0,0,0]#Hub\n",
    "                  ,[0,0,0,0,0,0,1,0,0,0,1,0,0,0,1,0,0,0,1]#Autorité\n",
    "                  ,[0,0,1,0,1,1,0,0,0,0,0,0,0,1,0,0,0,1,1]#Autorité\n",
    "                  ,[1,0,1,0,1,1,1,0,1,0,1,1,1,0,0,1,1,0,0]#Hub\n",
    "                  ,[1,1,1,1,0,1,1,1,1,1,0,0,1,1,0,1,1,0,0]])#Hub"
   ]
  },
  {
   "cell_type": "code",
   "execution_count": 14,
   "id": "e1b5cf48",
   "metadata": {},
   "outputs": [
    {
     "name": "stdout",
     "output_type": "stream",
     "text": [
      "commentaire : \n",
      " [0.27033721 0.15777261 0.2496386  0.1655906  0.20136584 0.25823346\n",
      " 0.20898436 0.15616053 0.15290112 0.21305159 0.18578872 0.12613409\n",
      " 0.140363   0.20784055 0.15836982 0.34629046 0.42743695 0.18339012\n",
      " 0.305882  ]\n"
     ]
    }
   ],
   "source": [
    "print(\"commentaire : \\n\",PageRank(graph3, 0.85, 1e-10))"
   ]
  },
  {
   "cell_type": "markdown",
   "id": "ee44bfba",
   "metadata": {},
   "source": [
    "### 3) Méthode d'acroissement du score"
   ]
  },
  {
   "cell_type": "markdown",
   "id": "71d68335",
   "metadata": {},
   "source": [
    "Trouvons une méthode pour accroîte le score d'une page et testons la."
   ]
  },
  {
   "cell_type": "markdown",
   "id": "1020e9c1",
   "metadata": {},
   "source": [
    "### 4) Influence du facteur d'amortissement"
   ]
  },
  {
   "cell_type": "markdown",
   "id": "c24764b7",
   "metadata": {},
   "source": [
    "Finalement, nous allons faire varier le facteur d'amortissement en utilisant un même graphe et seuil pour voir les différences des résultat pour enfin les interpréter. "
   ]
  },
  {
   "cell_type": "code",
   "execution_count": 15,
   "id": "483e24e5",
   "metadata": {},
   "outputs": [
    {
     "name": "stdout",
     "output_type": "stream",
     "text": [
      "Facteur d'amortissement = 1.0  : \n",
      " [0.39715974 0.23295747 0.23295747 0.23295747 0.23295747 0.38525704\n",
      " 0.14243144 0.24774667 0.14243144 0.39715974 0.23295747 0.23295747\n",
      " 0.23295747 0.23295747]\n",
      "Facteur d'amortissement = 0.047619047619047616  : \n",
      " [0.29533858 0.26234626 0.26234626 0.26234626 0.26234626 0.27591817\n",
      " 0.24980949 0.27203926 0.24980949 0.29533858 0.26234626 0.26234626\n",
      " 0.26234626 0.26234626]\n"
     ]
    },
    {
     "ename": "KeyboardInterrupt",
     "evalue": "",
     "output_type": "error",
     "traceback": [
      "\u001b[0;31m---------------------------------------------------------------------------\u001b[0m",
      "\u001b[0;31mKeyboardInterrupt\u001b[0m                         Traceback (most recent call last)",
      "Input \u001b[0;32mIn [15]\u001b[0m, in \u001b[0;36m<cell line: 1>\u001b[0;34m()\u001b[0m\n\u001b[1;32m      1\u001b[0m \u001b[38;5;28;01mfor\u001b[39;00m i \u001b[38;5;129;01min\u001b[39;00m \u001b[38;5;28mrange\u001b[39m (\u001b[38;5;241m1\u001b[39m,\u001b[38;5;241m101\u001b[39m,\u001b[38;5;241m20\u001b[39m) : \n\u001b[1;32m      2\u001b[0m     alpha \u001b[38;5;241m=\u001b[39m \u001b[38;5;241m1\u001b[39m\u001b[38;5;241m/\u001b[39mi\n\u001b[0;32m----> 3\u001b[0m     \u001b[38;5;28mprint\u001b[39m(\u001b[38;5;124m\"\u001b[39m\u001b[38;5;124mFacteur d\u001b[39m\u001b[38;5;124m'\u001b[39m\u001b[38;5;124mamortissement =\u001b[39m\u001b[38;5;124m\"\u001b[39m,alpha,\u001b[38;5;124m\"\u001b[39m\u001b[38;5;124m : \u001b[39m\u001b[38;5;130;01m\\n\u001b[39;00m\u001b[38;5;124m\"\u001b[39m,\u001b[43mPageRank\u001b[49m\u001b[43m(\u001b[49m\u001b[43mgraph1\u001b[49m\u001b[43m,\u001b[49m\u001b[43m \u001b[49m\u001b[43malpha\u001b[49m\u001b[43m,\u001b[49m\u001b[43m \u001b[49m\u001b[38;5;241;43m1e-100\u001b[39;49m\u001b[43m)\u001b[49m)\n",
      "Input \u001b[0;32mIn [8]\u001b[0m, in \u001b[0;36mPageRank\u001b[0;34m(matrice, alpha, seuil)\u001b[0m\n\u001b[1;32m      1\u001b[0m \u001b[38;5;28;01mdef\u001b[39;00m \u001b[38;5;21mPageRank\u001b[39m (matrice, alpha, seuil) :\n\u001b[0;32m----> 2\u001b[0m     \u001b[38;5;28;01mreturn\u001b[39;00m \u001b[43mpuissanceIteree\u001b[49m\u001b[43m(\u001b[49m\u001b[43mmatriceDeTransitionV2\u001b[49m\u001b[43m(\u001b[49m\u001b[43mmatrice\u001b[49m\u001b[43m,\u001b[49m\u001b[43m \u001b[49m\u001b[43malpha\u001b[49m\u001b[43m)\u001b[49m\u001b[43m,\u001b[49m\u001b[43m \u001b[49m\u001b[43mseuil\u001b[49m\u001b[43m)\u001b[49m\n",
      "Input \u001b[0;32mIn [2]\u001b[0m, in \u001b[0;36mpuissanceIteree\u001b[0;34m(M, seuil)\u001b[0m\n\u001b[1;32m     33\u001b[0m \u001b[38;5;28;01mwhile\u001b[39;00m norme(x1\u001b[38;5;241m-\u001b[39mx) \u001b[38;5;241m>\u001b[39m seuil  :\n\u001b[1;32m     34\u001b[0m     x \u001b[38;5;241m=\u001b[39m x1\n\u001b[0;32m---> 35\u001b[0m     x1 \u001b[38;5;241m=\u001b[39m \u001b[38;5;241m1\u001b[39m\u001b[38;5;241m/\u001b[39m\u001b[43mnorme\u001b[49m\u001b[43m(\u001b[49m\u001b[43mx\u001b[49m\u001b[38;5;241;43m.\u001b[39;49m\u001b[43mdot\u001b[49m\u001b[43m(\u001b[49m\u001b[43mM\u001b[49m\u001b[43m)\u001b[49m\u001b[43m)\u001b[49m\u001b[38;5;241m*\u001b[39mx\u001b[38;5;241m.\u001b[39mdot(M)\n\u001b[1;32m     36\u001b[0m \u001b[38;5;28;01mreturn\u001b[39;00m x1\n",
      "Input \u001b[0;32mIn [2]\u001b[0m, in \u001b[0;36mnorme\u001b[0;34m(X)\u001b[0m\n\u001b[1;32m      1\u001b[0m \u001b[38;5;28;01mdef\u001b[39;00m \u001b[38;5;21mnorme\u001b[39m (X) :\n\u001b[1;32m      2\u001b[0m     \u001b[38;5;66;03m# Donne la norme de X\u001b[39;00m\n\u001b[1;32m      3\u001b[0m     \u001b[38;5;66;03m# X : vecteur\u001b[39;00m\n\u001b[1;32m      4\u001b[0m     res \u001b[38;5;241m=\u001b[39m \u001b[38;5;241m0\u001b[39m\n\u001b[0;32m----> 5\u001b[0m     \u001b[38;5;28;01mfor\u001b[39;00m i \u001b[38;5;129;01min\u001b[39;00m X :\n\u001b[1;32m      6\u001b[0m         res \u001b[38;5;241m+\u001b[39m\u001b[38;5;241m=\u001b[39m i\u001b[38;5;241m*\u001b[39m\u001b[38;5;241m*\u001b[39m\u001b[38;5;241m2\u001b[39m\n\u001b[1;32m      7\u001b[0m     \u001b[38;5;28;01mreturn\u001b[39;00m np\u001b[38;5;241m.\u001b[39msqrt(res)\n",
      "\u001b[0;31mKeyboardInterrupt\u001b[0m: "
     ]
    }
   ],
   "source": [
    "for i in range (1,101,20) : \n",
    "    alpha = 1/i\n",
    "    print(\"Facteur d'amortissement =\",alpha,\" : \\n\",PageRank(graph1, alpha, 1e-100))"
   ]
  },
  {
   "cell_type": "markdown",
   "id": "85106e08",
   "metadata": {},
   "source": [
    "## Partie 4 : PageRank - version itérative, analyse"
   ]
  },
  {
   "cell_type": "markdown",
   "id": "444bdf9a",
   "metadata": {},
   "source": [
    "### 1)"
   ]
  },
  {
   "cell_type": "markdown",
   "id": "c534aaaf",
   "metadata": {},
   "source": [
    "##### www.google.fr"
   ]
  },
  {
   "cell_type": "raw",
   "id": "54751665",
   "metadata": {},
   "source": [
    ";extern;www.google.fr;www.google.fr/imghp?hl=fr&tab=wi;www.google.fr/intl/fr/about/products?tab=wh;www.google.fr/history/optout?hl=fr;www.google.fr/preferences?hl=fr;www.google.fr/advanced_search?hl=fr&amp;authuser=0;www.google.fr/intl/fr/ads;www.google.fr/services;www.google.fr/intl/fr/about.html;www.google.fr/setprefdomain?prefdom=US&amp;sig=6488201bK_ZnTWciUM4Eqvs2wEuHEHVmTSLNw%3D\n",
    "\n",
    "extern;0;1;1;1;1;1;1;1;1;1;1\n",
    "www.google.fr;0;0;0;0;1;0;0;0;0;0;0\n",
    "www.google.fr/imghp?hl=fr&tab=wi;0;1;0;0;0;0;0;0;0;0;1\n",
    "www.google.fr/intl/fr/about/products?tab=wh;0;1;0;0;0;1;1;0;0;0;1\n",
    "www.google.fr/history/optout?hl=fr;0;1;1;0;0;0;0;0;0;0;1\n",
    "www.google.fr/preferences?hl=fr;0;1;1;0;0;0;1;0;0;0;1\n",
    "www.google.fr/advanced_search?hl=fr&amp;authuser=0;0;1;0;0;0;0;0;0;0;0;1\n",
    "www.google.fr/intl/fr/ads;0;1;1;0;0;0;0;0;0;0;1\n",
    "www.google.fr/services;0;1;1;0;0;0;0;0;0;0;1\n",
    "www.google.fr/intl/fr/about.html;0;1;1;0;0;0;0;0;0;0;1\n",
    "www.google.fr/setprefdomain?prefdom=US&amp;sig=6488201bK_ZnTWciUM4Eqvs2wEuHEHVmTSLNw%3D;0;1;0;0;0;0;0;0;0;0;0"
   ]
  },
  {
   "cell_type": "code",
   "execution_count": 24,
   "id": "1a393c39",
   "metadata": {},
   "outputs": [],
   "source": [
    "M1 = np.array([\n",
    "            [0,0,0,1,0,0,0,0,0,0],\n",
    "            [1,0,0,0,0,0,0,0,0,1],\n",
    "            [1,0,0,0,1,1,0,0,0,1],\n",
    "            [1,1,0,0,0,0,0,0,0,1],\n",
    "            [1,1,0,0,0,1,0,0,0,1],\n",
    "            [0,1,0,0,0,0,0,0,0,1],\n",
    "            [1,1,0,0,0,0,0,0,0,1],\n",
    "            [1,1,0,0,0,0,0,0,0,1],\n",
    "            [1,1,0,0,0,0,0,0,0,1],\n",
    "            [1,0,0,0,0,0,0,0,0,0]])"
   ]
  },
  {
   "cell_type": "raw",
   "id": "86a367b3",
   "metadata": {},
   "source": [
    ";extern;fr.wikipedia.org;fr.wikipedia.org/wiki/Wikip%C3%A9dia:Accueil_principal;fr.wikipedia.org/wiki/Portail:Accueil;fr.wikipedia.org/wiki/Sp%C3%A9cial:Page_au_hasard;fr.wikipedia.org/wiki/Wikip%C3%A9dia:Contact;fr.wikipedia.org/wiki/Aide:D%C3%A9buter;fr.wikipedia.org/wiki/Aide:Accueil;fr.wikipedia.org/wiki/Wikip%C3%A9dia:Accueil_de_la_communaut%C3%A9;fr.wikipedia.org/wiki/Sp%C3%A9cial:Modifications_r%C3%A9centes;fr.wikipedia.org/wiki/Sp%C3%A9cial:Recherche;fr.wikipedia.org/w/index.php?title=Sp%C3%A9cial:Cr%C3%A9er_un_compte&amp;returnto=Wikip%C3%A9dia%3AAccueil+principal;fr.wikipedia.org/w/index.php?title=Sp%C3%A9cial:Connexion&amp;returnto=Wikip%C3%A9dia%3AAccueil+principal;fr.wikipedia.org/wiki/Aide:Introduction;fr.wikipedia.org/wiki/Sp%C3%A9cial:Mes_contributions;fr.wikipedia.org/wiki/Sp%C3%A9cial:Mes_discussions;fr.wikipedia.org/wiki/Discussion_Wikip%C3%A9dia:Accueil_principal;fr.wikipedia.org/w/index.php?title=Wikip%C3%A9dia:Accueil_principal&amp;action=edit;fr.wikipedia.org/w/index.php?title=Wikip%C3%A9dia:Accueil_principal&amp;action=history;fr.wikipedia.org/wiki/Sp%C3%A9cial:Pages_li%C3%A9es/Wikip%C3%A9dia:Accueil_principal;fr.wikipedia.org/wiki/Sp%C3%A9cial:Suivi_des_liens/Wikip%C3%A9dia:Accueil_principal;fr.wikipedia.org/wiki/Aide:Importer_un_fichier;fr.wikipedia.org/wiki/Sp%C3%A9cial:Pages_sp%C3%A9ciales;fr.wikipedia.org/w/index.php?title=Wikip%C3%A9dia:Accueil_principal&amp;oldid=205078181;fr.wikipedia.org/w/index.php?title=Wikip%C3%A9dia:Accueil_principal&amp;action=info;fr.wikipedia.org/w/index.php?title=Sp%C3%A9cial:Livre&amp;bookcmd=book_creator&amp;referer=Wikip%C3%A9dia%3AAccueil+principal;fr.wikipedia.org/w/index.php?title=Sp%C3%A9cial:DownloadAsPdf&amp;page=Wikip%C3%A9dia%3AAccueil_principal&amp;action=show-download-screen;fr.wikipedia.org/w/index.php?title=Wikip%C3%A9dia:Accueil_principal&amp;printable=yes;fr.wikipedia.org/wiki/Wikip%C3%A9dia:Principes_fondateurs\n",
    "\n",
    "extern;0;1;1;1;1;1;1;1;1;1;1;1;1;1;1;1;1;1;1;1;1;1;1;1;1;1;1;1;1\n",
    "fr.wikipedia.org;0;0;0;0;0;0;0;0;0;0;0;0;0;0;0;0;0;0;0;0;0;0;0;0;0;0;0;0;0\n",
    "fr.wikipedia.org/wiki/Wikip%C3%A9dia:Accueil_principal;0;1;1;1;1;1;1;1;1;1;1;1;1;1;1;1;1;1;1;1;1;1;1;1;1;1;1;1;1\n",
    "fr.wikipedia.org/wiki/Portail:Accueil;0;1;1;1;1;1;1;1;1;1;1;1;1;1;1;1;1;1;1;1;1;1;1;1;1;1;1;1;1\n",
    "fr.wikipedia.org/wiki/Sp%C3%A9cial:Page_au_hasard;0;1;1;1;1;1;1;1;1;1;1;1;1;1;1;1;1;1;1;1;1;1;1;1;1;1;1;1;1\n",
    "fr.wikipedia.org/wiki/Wikip%C3%A9dia:Contact;0;1;1;1;1;1;1;1;1;1;1;1;1;1;1;1;1;1;1;1;1;1;1;1;1;1;1;1;1\n",
    "fr.wikipedia.org/wiki/Aide:D%C3%A9buter;0;1;1;1;1;1;1;1;1;1;1;1;1;1;1;1;1;1;1;1;1;1;1;1;1;1;1;1;1\n",
    "fr.wikipedia.org/wiki/Aide:Accueil;0;1;1;1;1;1;1;1;1;1;1;1;1;1;1;1;1;1;1;1;1;1;1;1;1;1;1;1;1\n",
    "fr.wikipedia.org/wiki/Wikip%C3%A9dia:Accueil_de_la_communaut%C3%A9;0;1;1;1;1;1;1;1;1;1;1;1;1;1;1;1;1;1;1;1;1;1;1;1;1;1;1;1;1\n",
    "fr.wikipedia.org/wiki/Sp%C3%A9cial:Modifications_r%C3%A9centes;0;1;1;1;1;1;1;1;1;1;1;1;1;1;1;1;1;1;1;1;1;1;1;1;1;1;1;1;1\n",
    "fr.wikipedia.org/wiki/Sp%C3%A9cial:Recherche;0;1;1;1;1;1;1;1;1;1;1;1;1;1;1;1;1;1;1;1;1;1;1;1;1;1;1;1;1\n",
    "fr.wikipedia.org/w/index.php?title=Sp%C3%A9cial:Cr%C3%A9er_un_compte&amp;returnto=Wikip%C3%A9dia%3AAccueil+principal;0;1;1;0;0;0;0;0;0;0;0;0;0;0;0;0;0;0;0;0;0;0;0;0;0;0;0;0;0\n",
    "fr.wikipedia.org/w/index.php?title=Sp%C3%A9cial:Connexion&amp;returnto=Wikip%C3%A9dia%3AAccueil+principal;0;1;1;0;0;0;0;0;0;0;0;0;0;0;0;0;0;0;0;0;0;0;0;0;0;0;0;0;0\n",
    "fr.wikipedia.org/wiki/Aide:Introduction;0;1;1;1;1;1;1;1;1;1;1;1;1;1;1;1;1;1;1;1;1;1;1;1;1;1;1;1;1\n",
    "fr.wikipedia.org/wiki/Sp%C3%A9cial:Mes_contributions;0;1;1;1;1;1;1;1;1;1;1;1;1;1;1;1;1;1;1;1;1;1;1;1;1;1;1;1;1\n",
    "fr.wikipedia.org/wiki/Sp%C3%A9cial:Mes_discussions;0;1;1;1;1;1;1;1;1;1;1;1;1;1;1;1;1;1;1;1;1;1;1;1;1;1;1;1;1\n",
    "fr.wikipedia.org/wiki/Discussion_Wikip%C3%A9dia:Accueil_principal;0;1;1;0;0;0;0;0;0;0;0;0;0;0;0;0;1;1;1;1;1;0;0;1;1;0;0;1;0\n",
    "fr.wikipedia.org/w/index.php?title=Wikip%C3%A9dia:Accueil_principal&amp;action=edit;0;1;1;0;0;0;0;0;0;0;0;0;0;0;0;0;0;1;1;1;1;0;0;1;1;0;0;1;0\n",
    "fr.wikipedia.org/w/index.php?title=Wikip%C3%A9dia:Accueil_principal&amp;action=history;0;1;1;0;0;0;0;0;0;0;0;0;0;0;0;0;0;1;1;1;1;0;0;1;1;0;0;1;0\n",
    "fr.wikipedia.org/wiki/Sp%C3%A9cial:Pages_li%C3%A9es/Wikip%C3%A9dia:Accueil_principal;0;1;1;0;0;0;0;0;0;0;0;0;0;0;0;0;0;1;1;0;0;0;0;1;1;0;0;1;0\n",
    "fr.wikipedia.org/wiki/Sp%C3%A9cial:Suivi_des_liens/Wikip%C3%A9dia:Accueil_principal;0;1;1;0;0;0;0;0;0;0;0;0;0;0;0;0;0;1;1;0;0;0;0;1;1;0;0;1;0\n",
    "fr.wikipedia.org/wiki/Aide:Importer_un_fichier;0;1;1;1;1;1;1;1;1;1;1;1;1;1;1;1;1;1;1;1;1;1;1;1;1;1;1;1;1\n",
    "fr.wikipedia.org/wiki/Sp%C3%A9cial:Pages_sp%C3%A9ciales;0;1;1;1;1;1;1;1;1;1;1;1;1;1;1;1;1;1;1;1;1;1;1;1;1;1;1;1;1\n",
    "fr.wikipedia.org/w/index.php?title=Wikip%C3%A9dia:Accueil_principal&amp;oldid=205078181;0;1;1;0;0;0;0;0;0;0;0;0;0;0;0;0;0;1;1;0;0;0;0;1;1;0;0;1;0\n",
    "fr.wikipedia.org/w/index.php?title=Wikip%C3%A9dia:Accueil_principal&amp;action=info;0;1;1;0;0;0;0;0;0;0;0;0;0;0;0;0;0;1;1;0;0;0;0;1;1;0;0;1;0\n",
    "fr.wikipedia.org/w/index.php?title=Sp%C3%A9cial:Livre&amp;bookcmd=book_creator&amp;referer=Wikip%C3%A9dia%3AAccueil+principal;0;1;1;0;0;0;0;0;0;0;0;0;0;0;0;0;0;1;1;0;0;0;0;1;1;0;0;1;0\n",
    "fr.wikipedia.org/w/index.php?title=Sp%C3%A9cial:DownloadAsPdf&amp;page=Wikip%C3%A9dia%3AAccueil_principal&amp;action=show-download-screen;0;1;1;0;0;0;0;0;0;0;0;0;0;0;0;0;0;1;1;0;0;0;0;1;1;0;0;1;0\n",
    "fr.wikipedia.org/w/index.php?title=Wikip%C3%A9dia:Accueil_principal&amp;printable=yes;0;1;1;0;0;0;0;0;0;0;0;0;0;0;0;0;0;1;1;0;0;0;0;1;1;0;0;1;0\n",
    "fr.wikipedia.org/wiki/Wikip%C3%A9dia:Principes_fondateurs;0;1;1;0;0;0;0;1;1;0;0;0;0;0;0;0;0;1;1;0;0;1;0;1;1;0;0;1;1"
   ]
  },
  {
   "cell_type": "code",
   "execution_count": 25,
   "id": "641e1428",
   "metadata": {},
   "outputs": [],
   "source": [
    "M2 = np.array([\n",
    "            [0,0,0,0,0,0,0,0,0,0,0,0,0,0,0,0,0,0,0,0,0,0,0,0,0,0,0,0],\n",
    "            [1,1,1,1,1,1,1,1,1,1,1,1,1,1,1,1,1,1,1,1,1,1,1,1,1,1,1,1],\n",
    "            [1,1,1,1,1,1,1,1,1,1,1,1,1,1,1,1,1,1,1,1,1,1,1,1,1,1,1,1],\n",
    "            [1,1,1,1,1,1,1,1,1,1,1,1,1,1,1,1,1,1,1,1,1,1,1,1,1,1,1,1],\n",
    "            [1,1,1,1,1,1,1,1,1,1,1,1,1,1,1,1,1,1,1,1,1,1,1,1,1,1,1,1],\n",
    "            [1,1,1,1,1,1,1,1,1,1,1,1,1,1,1,1,1,1,1,1,1,1,1,1,1,1,1,1],\n",
    "            [1,1,1,1,1,1,1,1,1,1,1,1,1,1,1,1,1,1,1,1,1,1,1,1,1,1,1,1],\n",
    "            [1,1,1,1,1,1,1,1,1,1,1,1,1,1,1,1,1,1,1,1,1,1,1,1,1,1,1,1],\n",
    "            [1,1,1,1,1,1,1,1,1,1,1,1,1,1,1,1,1,1,1,1,1,1,1,1,1,1,1,1],\n",
    "            [1,1,1,1,1,1,1,1,1,1,1,1,1,1,1,1,1,1,1,1,1,1,1,1,1,1,1,1],\n",
    "            [1,1,0,0,0,0,0,0,0,0,0,0,0,0,0,0,0,0,0,0,0,0,0,0,0,0,0,0],\n",
    "            [1,1,0,0,0,0,0,0,0,0,0,0,0,0,0,0,0,0,0,0,0,0,0,0,0,0,0,0],\n",
    "            [1,1,1,1,1,1,1,1,1,1,1,1,1,1,1,1,1,1,1,1,1,1,1,1,1,1,1,1],\n",
    "            [1,1,1,1,1,1,1,1,1,1,1,1,1,1,1,1,1,1,1,1,1,1,1,1,1,1,1,1],\n",
    "            [1,1,1,1,1,1,1,1,1,1,1,1,1,1,1,1,1,1,1,1,1,1,1,1,1,1,1,1],\n",
    "            [1,1,0,0,0,0,0,0,0,0,0,0,0,0,0,1,1,1,1,1,0,0,1,1,0,0,1,0],\n",
    "            [1,1,0,0,0,0,0,0,0,0,0,0,0,0,0,0,1,1,1,1,0,0,1,1,0,0,1,0],\n",
    "            [1,1,0,0,0,0,0,0,0,0,0,0,0,0,0,0,1,1,1,1,0,0,1,1,0,0,1,0],\n",
    "            [1,1,0,0,0,0,0,0,0,0,0,0,0,0,0,0,1,1,0,0,0,0,1,1,0,0,1,0],\n",
    "            [1,1,0,0,0,0,0,0,0,0,0,0,0,0,0,0,1,1,0,0,0,0,1,1,0,0,1,0],\n",
    "            [1,1,1,1,1,1,1,1,1,1,1,1,1,1,1,1,1,1,1,1,1,1,1,1,1,1,1,1],\n",
    "            [1,1,1,1,1,1,1,1,1,1,1,1,1,1,1,1,1,1,1,1,1,1,1,1,1,1,1,1],\n",
    "            [1,1,0,0,0,0,0,0,0,0,0,0,0,0,0,0,1,1,0,0,0,0,1,1,0,0,1,0],\n",
    "            [1,1,0,0,0,0,0,0,0,0,0,0,0,0,0,0,1,1,0,0,0,0,1,1,0,0,1,0],\n",
    "            [1,1,0,0,0,0,0,0,0,0,0,0,0,0,0,0,1,1,0,0,0,0,1,1,0,0,1,0],\n",
    "            [1,1,0,0,0,0,0,0,0,0,0,0,0,0,0,0,1,1,0,0,0,0,1,1,0,0,1,0],\n",
    "            [1,1,0,0,0,0,0,0,0,0,0,0,0,0,0,0,1,1,0,0,0,0,1,1,0,0,1,0],\n",
    "            [1,1,0,0,0,0,1,1,0,0,0,0,0,0,0,0,1,1,0,0,1,0,1,1,0,0,1,1]])"
   ]
  },
  {
   "cell_type": "raw",
   "id": "64228831",
   "metadata": {},
   "source": [
    ";extern;www.ffpsed.fr;www.ffpsed.fr/comite-directeur-et-commissions;www.ffpsed.fr/truite;www.ffpsed.fr/truite/accueil-presentation;www.ffpsed.fr/truite/championnats-du-monde-pont-de-cheruy-2020;www.ffpsed.fr/truite/championnat-de-france;www.ffpsed.fr/truite/saison-2019;www.ffpsed.fr/truite/saison-2020;www.ffpsed.fr/truite/reglements;www.ffpsed.fr/truite/compte-rendu-des-reunions;www.ffpsed.fr/truite/resultats;www.ffpsed.fr/truite/documentation;www.ffpsed.fr/truite/presse;www.ffpsed.fr/truite/contact;www.ffpsed.fr/calendrier;www.ffpsed.fr/licences-et-arbitres;www.ffpsed.fr/licences-et-arbitres/arbitres;www.ffpsed.fr/licences-et-arbitres/licences;www.ffpsed.fr/discipline\n",
    "\n",
    "extern;0;1;1;1;1;1;1;1;1;1;1;1;1;1;1;1;1;1;1;1\n",
    "www.ffpsed.fr;0;1;1;1;1;1;1;1;1;1;1;1;1;1;1;1;1;1;1;1\n",
    "www.ffpsed.fr/comite-directeur-et-commissions;0;1;1;1;1;1;1;1;1;1;1;1;1;1;1;1;1;1;1;1\n",
    "www.ffpsed.fr/truite;0;1;1;1;1;1;1;1;1;1;1;1;1;1;1;1;1;1;1;1\n",
    "www.ffpsed.fr/truite/accueil-presentation;0;1;1;1;1;1;1;1;1;1;1;1;1;1;1;1;1;1;1;1\n",
    "www.ffpsed.fr/truite/championnats-du-monde-pont-de-cheruy-2020;0;1;1;1;1;1;1;1;1;1;1;1;1;1;1;1;1;1;1;1\n",
    "www.ffpsed.fr/truite/championnat-de-france;0;1;1;1;1;1;1;1;1;1;1;1;1;1;1;1;1;1;1;1\n",
    "www.ffpsed.fr/truite/saison-2019;0;1;1;1;1;1;1;1;1;1;1;1;1;1;1;1;1;1;1;1\n",
    "www.ffpsed.fr/truite/saison-2020;0;1;1;1;1;1;1;1;1;1;1;1;1;1;1;1;1;1;1;1\n",
    "www.ffpsed.fr/truite/reglements;0;1;1;1;1;1;1;1;1;1;1;1;1;1;1;1;1;1;1;1\n",
    "www.ffpsed.fr/truite/compte-rendu-des-reunions;0;1;1;1;1;1;1;1;1;1;1;1;1;1;1;1;1;1;1;1\n",
    "www.ffpsed.fr/truite/resultats;0;1;1;1;1;1;1;1;1;1;1;1;1;1;1;1;1;1;1;1\n",
    "www.ffpsed.fr/truite/documentation;0;1;1;1;1;1;1;1;1;1;1;1;1;1;1;1;1;1;1;1\n",
    "www.ffpsed.fr/truite/presse;0;1;1;1;1;1;1;1;1;1;1;1;1;1;1;1;1;1;1;1\n",
    "www.ffpsed.fr/truite/contact;0;1;1;1;1;1;1;1;1;1;1;1;1;1;1;1;1;1;1;1\n",
    "www.ffpsed.fr/calendrier;0;1;1;1;1;1;1;1;1;1;1;1;1;1;1;1;1;1;1;1\n",
    "www.ffpsed.fr/licences-et-arbitres;0;1;1;1;1;1;1;1;1;1;1;1;1;1;1;1;1;1;1;1\n",
    "www.ffpsed.fr/licences-et-arbitres/arbitres;0;1;1;1;1;1;1;1;1;1;1;1;1;1;1;1;1;1;1;1\n",
    "www.ffpsed.fr/licences-et-arbitres/licences;0;1;1;1;1;1;1;1;1;1;1;1;1;1;1;1;1;1;1;1\n",
    "www.ffpsed.fr/discipline;0;1;1;1;1;1;1;1;1;1;1;1;1;1;1;1;1;1;1;1"
   ]
  },
  {
   "cell_type": "code",
   "execution_count": 26,
   "id": "4ac10c1f",
   "metadata": {},
   "outputs": [],
   "source": [
    "M3 = np.array([\n",
    "            [1,1,1,1,1,1,1,1,1,1,1,1,1,1,1,1,1,1,1],\n",
    "            [1,1,1,1,1,1,1,1,1,1,1,1,1,1,1,1,1,1,1],\n",
    "            [1,1,1,1,1,1,1,1,1,1,1,1,1,1,1,1,1,1,1],\n",
    "            [1,1,1,1,1,1,1,1,1,1,1,1,1,1,1,1,1,1,1],\n",
    "            [1,1,1,1,1,1,1,1,1,1,1,1,1,1,1,1,1,1,1],\n",
    "            [1,1,1,1,1,1,1,1,1,1,1,1,1,1,1,1,1,1,1],\n",
    "            [1,1,1,1,1,1,1,1,1,1,1,1,1,1,1,1,1,1,1],\n",
    "            [1,1,1,1,1,1,1,1,1,1,1,1,1,1,1,1,1,1,1],\n",
    "            [1,1,1,1,1,1,1,1,1,1,1,1,1,1,1,1,1,1,1],\n",
    "            [1,1,1,1,1,1,1,1,1,1,1,1,1,1,1,1,1,1,1],\n",
    "            [1,1,1,1,1,1,1,1,1,1,1,1,1,1,1,1,1,1,1],\n",
    "            [1,1,1,1,1,1,1,1,1,1,1,1,1,1,1,1,1,1,1],\n",
    "            [1,1,1,1,1,1,1,1,1,1,1,1,1,1,1,1,1,1,1],\n",
    "            [1,1,1,1,1,1,1,1,1,1,1,1,1,1,1,1,1,1,1],\n",
    "            [1,1,1,1,1,1,1,1,1,1,1,1,1,1,1,1,1,1,1],\n",
    "            [1,1,1,1,1,1,1,1,1,1,1,1,1,1,1,1,1,1,1],\n",
    "            [1,1,1,1,1,1,1,1,1,1,1,1,1,1,1,1,1,1,1],\n",
    "            [1,1,1,1,1,1,1,1,1,1,1,1,1,1,1,1,1,1,1],\n",
    "            [1,1,1,1,1,1,1,1,1,1,1,1,1,1,1,1,1,1,1]])"
   ]
  },
  {
   "cell_type": "code",
   "execution_count": 27,
   "id": "ff27a18a",
   "metadata": {},
   "outputs": [
    {
     "name": "stdout",
     "output_type": "stream",
     "text": [
      "résultat : \n",
      " [0.71364458 0.30627578 0.01942885 0.40164451 0.02983461 0.04581351\n",
      " 0.01942885 0.01942885 0.01942885 0.48071753]\n"
     ]
    }
   ],
   "source": [
    "print(\"résultat : \\n\",PageRank(M1, 0.85, 1e-10))"
   ]
  },
  {
   "cell_type": "code",
   "execution_count": 28,
   "id": "67671e32",
   "metadata": {},
   "outputs": [
    {
     "name": "stdout",
     "output_type": "stream",
     "text": [
      "résultat : \n",
      " [0.29960542 0.29960542 0.13459441 0.13459441 0.13459441 0.13459441\n",
      " 0.14372447 0.14372447 0.13459441 0.13459441 0.13459441 0.13459441\n",
      " 0.13459441 0.13459441 0.13459441 0.14372447 0.28250526 0.28250526\n",
      " 0.17961662 0.17961662 0.14372447 0.13459441 0.28250526 0.28250526\n",
      " 0.13459441 0.13459441 0.28250526 0.14372447]\n"
     ]
    }
   ],
   "source": [
    "print(\"résultat : \\n\",PageRank(M2, 0.85, 1e-10))"
   ]
  },
  {
   "cell_type": "code",
   "execution_count": 29,
   "id": "413db831",
   "metadata": {},
   "outputs": [
    {
     "name": "stdout",
     "output_type": "stream",
     "text": [
      "résultat : \n",
      " [0.22941573 0.22941573 0.22941573 0.22941573 0.22941573 0.22941573\n",
      " 0.22941573 0.22941573 0.22941573 0.22941573 0.22941573 0.22941573\n",
      " 0.22941573 0.22941573 0.22941573 0.22941573 0.22941573 0.22941573\n",
      " 0.22941573]\n"
     ]
    }
   ],
   "source": [
    "print(\"résultat : \\n\",PageRank(M3, 0.85, 1e-10))"
   ]
  },
  {
   "cell_type": "markdown",
   "id": "9aa991f4",
   "metadata": {},
   "source": [
    "### 2)"
   ]
  },
  {
   "cell_type": "markdown",
   "id": "c2992985",
   "metadata": {},
   "source": []
  },
  {
   "cell_type": "code",
   "execution_count": 32,
   "id": "eb5d6cc0",
   "metadata": {},
   "outputs": [],
   "source": []
  },
  {
   "cell_type": "markdown",
   "id": "3585c212",
   "metadata": {},
   "source": []
  },
  {
   "cell_type": "code",
   "execution_count": 33,
   "id": "0b8a0352",
   "metadata": {},
   "outputs": [],
   "source": []
  },
  {
   "cell_type": "markdown",
   "id": "d6cc9996",
   "metadata": {},
   "source": []
  },
  {
   "cell_type": "code",
   "execution_count": null,
   "id": "30a4907e",
   "metadata": {},
   "outputs": [],
   "source": []
  },
  {
   "cell_type": "code",
   "execution_count": null,
   "id": "8754e262",
   "metadata": {},
   "outputs": [],
   "source": []
  },
  {
   "cell_type": "markdown",
   "id": "ed973a2b",
   "metadata": {},
   "source": [
    "## Partie 5 : PageRank - calcul direct des scores et comparaison d'algorithmes"
   ]
  },
  {
   "cell_type": "markdown",
   "id": "9cec6e7b",
   "metadata": {},
   "source": [
    "### 1)"
   ]
  },
  {
   "cell_type": "markdown",
   "id": "9ebd8a4b",
   "metadata": {},
   "source": [
    "Pseudo-code de l'algorithme"
   ]
  },
  {
   "cell_type": "markdown",
   "id": "cc964ceb",
   "metadata": {},
   "source": [
    "### 2)"
   ]
  },
  {
   "cell_type": "code",
   "execution_count": null,
   "id": "090db351",
   "metadata": {},
   "outputs": [],
   "source": [
    "Algorithme"
   ]
  },
  {
   "cell_type": "markdown",
   "id": "123bb441",
   "metadata": {},
   "source": [
    "### 3)"
   ]
  },
  {
   "cell_type": "markdown",
   "id": "15039b92",
   "metadata": {},
   "source": [
    "Comparaison"
   ]
  },
  {
   "cell_type": "markdown",
   "id": "dede1986",
   "metadata": {},
   "source": [
    "### 4)"
   ]
  },
  {
   "cell_type": "markdown",
   "id": "b6f0258e",
   "metadata": {},
   "source": [
    "Comparaison"
   ]
  },
  {
   "cell_type": "markdown",
   "id": "54efc846",
   "metadata": {},
   "source": [
    "## Partie 6 : PageRank - matrice du langage"
   ]
  },
  {
   "cell_type": "markdown",
   "id": "5a148806",
   "metadata": {},
   "source": [
    "Bonus"
   ]
  },
  {
   "cell_type": "markdown",
   "id": "f7800b98",
   "metadata": {},
   "source": [
    "## Conclusion : Participations "
   ]
  },
  {
   "cell_type": "code",
   "execution_count": null,
   "id": "4780e11f",
   "metadata": {},
   "outputs": [],
   "source": []
  },
  {
   "cell_type": "code",
   "execution_count": null,
   "id": "0526b1d7",
   "metadata": {},
   "outputs": [],
   "source": []
  },
  {
   "cell_type": "code",
   "execution_count": null,
   "id": "81677f2c",
   "metadata": {},
   "outputs": [],
   "source": []
  },
  {
   "cell_type": "code",
   "execution_count": null,
   "id": "73b8e938",
   "metadata": {},
   "outputs": [],
   "source": []
  },
  {
   "cell_type": "code",
   "execution_count": null,
   "id": "7b64c3c7",
   "metadata": {},
   "outputs": [],
   "source": []
  },
  {
   "cell_type": "code",
   "execution_count": null,
   "id": "a3ea7575",
   "metadata": {},
   "outputs": [],
   "source": []
  }
 ],
 "metadata": {
  "kernelspec": {
   "display_name": "Python 3 (ipykernel)",
   "language": "python",
   "name": "python3"
  },
  "language_info": {
   "codemirror_mode": {
    "name": "ipython",
    "version": 3
   },
   "file_extension": ".py",
   "mimetype": "text/x-python",
   "name": "python",
   "nbconvert_exporter": "python",
   "pygments_lexer": "ipython3",
   "version": "3.9.12"
  }
 },
 "nbformat": 4,
 "nbformat_minor": 5
}
