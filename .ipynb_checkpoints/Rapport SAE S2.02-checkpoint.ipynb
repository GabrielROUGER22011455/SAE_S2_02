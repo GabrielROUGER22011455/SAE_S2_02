{
 "cells": [
  {
   "cell_type": "markdown",
   "id": "6f04f881",
   "metadata": {},
   "source": [
    "# Rapport SAE S2.02"
   ]
  },
  {
   "cell_type": "code",
   "execution_count": 1,
   "id": "cdb0fdf0",
   "metadata": {},
   "outputs": [],
   "source": [
    "# Importations des bibliothèques utilisées dans le rapport\n",
    "import numpy as np\n",
    "import random\n",
    "import matplotlib.pyplot as plt\n",
    "import matplotlib.image as img"
   ]
  },
  {
   "cell_type": "markdown",
   "id": "aad82e72",
   "metadata": {},
   "source": [
    "Groupe G4-E : \n",
    "    Bougeard Bastien,\n",
    "    Delin Alexis,\n",
    "    Rouge Gabriel"
   ]
  },
  {
   "cell_type": "markdown",
   "id": "66df0521",
   "metadata": {},
   "source": [
    "## Partie 1 : PageRank - version itérative, premier exemple"
   ]
  },
  {
   "cell_type": "markdown",
   "id": "346c764f",
   "metadata": {},
   "source": [
    "### 1)"
   ]
  },
  {
   "cell_type": "markdown",
   "id": "035dedc7",
   "metadata": {},
   "source": [
    "Une fois ce graphe converti en matrice d'adjacence, nous pouvons lui appliquer l'algorithme de la puissance itérée. Il sert à trouver une approximation du vecteur propre d'une matrice. Ainsi, chaque valeur propre du vecteur correspond à un sommet, soit au score de la page Web signifiée par ledit sommet. Ainsi, cet algorithme permet de trouver le score approximatif de chaque site traduit sur le graphe donné."
   ]
  },
  {
   "cell_type": "markdown",
   "id": "343a5b80",
   "metadata": {},
   "source": [
    "### 2)"
   ]
  },
  {
   "cell_type": "code",
   "execution_count": 2,
   "id": "801343d1",
   "metadata": {},
   "outputs": [],
   "source": [
    "def norme (X) :\n",
    "    # Donne la norme de X\n",
    "    # X : vecteur\n",
    "    res = 0\n",
    "    for i in X :\n",
    "        res += i**2\n",
    "    return np.sqrt(res)\n",
    "\n",
    "def matriceDeTransition(q):\n",
    "    # Donne la matrice de tranisition correspondante\n",
    "    # q : matrice d'adjacence \n",
    "    # N : ordre de la matrice q\n",
    "    # Q : matrice de transition (résultat)\n",
    "    #  - .dot permet de faire un produit de deux np.array\n",
    "    #  - .sum fait la somme des éléments d'un np.array\n",
    "    N = len(q)\n",
    "    Q = np.zeros((N,N))\n",
    "    for i in range(N):\n",
    "        for j in range(N):\n",
    "            Nj = np.sum(q[i])\n",
    "            if Nj!=0:\n",
    "                Q[i][j] = q[i][j]/Nj\n",
    "    return Q\n",
    "\n",
    "def puissanceIteree(M, seuil):\n",
    "    # Algorithme de puissance itérée\n",
    "    # M : matrice\n",
    "    # x : vecteur pris aléatoirement dans M\n",
    "    # x1 : vecteur\n",
    "    # seuil : très petit nombre décimal tel 1e-10\n",
    "    x = M[random.randint(0,len(M)-1)]\n",
    "    y = 1/norme(x.dot(M))*x.dot(M)\n",
    "    while norme(y-x) > seuil  :\n",
    "        x = y\n",
    "        y = 1/norme(x.dot(M))*x.dot(M)\n",
    "    return y\n"
   ]
  },
  {
   "cell_type": "code",
   "execution_count": 3,
   "id": "694a4ced",
   "metadata": {},
   "outputs": [
    {
     "name": "stdout",
     "output_type": "stream",
     "text": [
      "[0.41959068 0.16783627 0.16783627 0.16783627 0.16783627 0.50350881\n",
      " 0.16783627 0.33567254 0.16783627 0.41959068 0.16783627 0.16783627\n",
      " 0.16783627 0.16783627]\n"
     ]
    }
   ],
   "source": [
    "# Matrice d'adjascence du graphe donné où N = 14\n",
    "graph1 = np.array([[0,1,1,1,1,1,0,0,0,0,0,0,0,0]\n",
    "                  ,[1,0,1,0,0,0,0,0,0,0,0,0,0,0]\n",
    "                  ,[1,0,0,1,0,0,0,0,0,0,0,0,0,0]\n",
    "                  ,[1,0,0,0,1,0,0,0,0,0,0,0,0,0]\n",
    "                  ,[1,1,0,0,0,0,0,0,0,0,0,0,0,0]\n",
    "                  ,[0,0,0,0,0,0,1,1,1,0,0,0,0,0]\n",
    "                  ,[1,0,0,0,0,0,0,1,0,0,0,0,0,0]\n",
    "                  ,[0,0,0,0,0,1,0,0,0,0,0,0,0,0]\n",
    "                  ,[0,0,0,0,0,0,0,1,0,1,0,0,0,0]\n",
    "                  ,[0,0,0,0,0,1,0,0,0,0,1,1,1,1]\n",
    "                  ,[0,0,0,0,0,0,0,0,0,1,0,1,0,0]\n",
    "                  ,[0,0,0,0,0,0,0,0,0,1,0,0,1,0]\n",
    "                  ,[0,0,0,0,0,0,0,0,0,1,0,0,0,1]\n",
    "                  ,[0,0,0,0,0,0,0,0,0,1,1,0,0,0]])\n",
    "\n",
    "tmpMat = matriceDeTransition(graph1)\n",
    "print(puissanceIteree(tmpMat, 1e-10))"
   ]
  },
  {
   "cell_type": "markdown",
   "id": "33fa64e1",
   "metadata": {},
   "source": [
    "### 3)"
   ]
  },
  {
   "cell_type": "markdown",
   "id": "7f9a868e",
   "metadata": {},
   "source": [
    "Le vecteur propre est comme attendu d'ordre N (14) soit l'ordre du graphe que représente la matrice d'adjacence. Ainsi, chaque valeur propre correspond au score d'un sommet du graphe. \n",
    "\n",
    "On observe en effet que le sommet 1, 6 et 8 ont un score plus élevé que les autres puisqu'ils ont une quantité importante d'arcs orientés vers eux. A l'inverse, les autres sommets ont tous un seul arc entrant et ont donc tous le même score ( environ 1,7 ).\n",
    "\n",
    "Puisque le résultat est cohérent, on en déduit que l'algorithme implémenté fonctionne, jusqu'à preuve du contraire."
   ]
  },
  {
   "cell_type": "markdown",
   "id": "11837a74",
   "metadata": {},
   "source": [
    "## Partie 2 : PageRank - version itérative, deuxième exemple"
   ]
  },
  {
   "cell_type": "markdown",
   "id": "797a9af0",
   "metadata": {},
   "source": [
    "### 1)"
   ]
  },
  {
   "cell_type": "code",
   "execution_count": 4,
   "id": "330572c4",
   "metadata": {},
   "outputs": [],
   "source": [
    "# Matrice d'adjascence du graphe donné où N = 5\n",
    "graph2 = np.array([[0,0,0,0,0],\n",
    "                  [1,0,0,0,0],\n",
    "                  [1,0,0,0,0],\n",
    "                  [1,1,1,0,0],\n",
    "                  [1,1,0,0,0]])"
   ]
  },
  {
   "cell_type": "code",
   "execution_count": 5,
   "id": "e5ca9399",
   "metadata": {},
   "outputs": [
    {
     "name": "stdout",
     "output_type": "stream",
     "text": [
      "[nan nan nan nan nan]\n"
     ]
    },
    {
     "name": "stderr",
     "output_type": "stream",
     "text": [
      "/tmp/ipykernel_9357/3022258337.py:35: RuntimeWarning: divide by zero encountered in double_scalars\n",
      "  y = 1/norme(x.dot(M))*x.dot(M)\n",
      "/tmp/ipykernel_9357/3022258337.py:35: RuntimeWarning: invalid value encountered in multiply\n",
      "  y = 1/norme(x.dot(M))*x.dot(M)\n"
     ]
    }
   ],
   "source": [
    "tmpMat = matriceDeTransition(graph2)\n",
    "print(puissanceIteree(tmpMat, 1e-10))"
   ]
  },
  {
   "cell_type": "markdown",
   "id": "3940923b",
   "metadata": {},
   "source": [
    "On observe que la fonction provoque avec ce graphe en paramètre un message d'erreur de type division par 0. \n",
    "\n",
    "Le seul endroit où une division est faite est à cette ligne : \n",
    "\n",
    "    x1 = 1/norme(x.dot(M))*x.dot(M)\n",
    "Il n'y a qu'une seule division dans cette ligne. Ainsi, pour que \"1/norme(x.dot(M))\\*x.dot(M)\" soit égal à 0, soit le produit de M et de x est nul, soit la norme de ce produit est nulle. La fonction norme(X) n'effectue aucune opération susceptible de rendre son résultat nul (aucune addition/soustraction, ...). On en conclue qu'il s'agit du produit de x et M qui est nul, ainsi, au moins l'une de ces deux valeur est nulle. Rappelons que x est un vecteur pris aléatoirement dans la matrice M.\n",
    "\n",
    "On remarque que la matrice d'adjacence de ce graphe présente en effet au moins une entrée composée de 5 zéros (où N = 5). Il est donc certain que x prenne à un moment donné la valeur de [0,0,0,0,0]. Là est l'origine de l'erreur.\n",
    "\n",
    "On en conclue que notre algorithme est à revoir puisqu'il ne devrait pas présenter d'erreur. Des modifications à la fonction \"matriceDeTransition(q)\" sont à apporter."
   ]
  },
  {
   "cell_type": "markdown",
   "id": "598540c9",
   "metadata": {},
   "source": [
    "### 2)"
   ]
  },
  {
   "cell_type": "code",
   "execution_count": 6,
   "id": "5e85ca47",
   "metadata": {},
   "outputs": [],
   "source": [
    "def matriceDeTransitionV2(p, alpha):\n",
    "    # Donne la matrice de tranisition correspondante, version améliorée\n",
    "    # p : matrice d'adjacence \n",
    "    # N : ordre de la matrice p\n",
    "    # P : matrice de transition (résultat)\n",
    "    # alpha : facteur d'amortissement\n",
    "    N = len(p)\n",
    "    P = np.zeros((N,N))\n",
    "    for i in range(N):\n",
    "        for j in range(N):\n",
    "            Nj = np.count_nonzero(p[i])\n",
    "            if Nj!=0:\n",
    "                P[i][j] = alpha*p[i][j]+((1-alpha)/N)\n",
    "            else:\n",
    "                P[i][j] = 1/N\n",
    "    return P"
   ]
  },
  {
   "cell_type": "code",
   "execution_count": 7,
   "id": "cafd80cf",
   "metadata": {},
   "outputs": [
    {
     "name": "stdout",
     "output_type": "stream",
     "text": [
      "[0.848723   0.38834904 0.27552341 0.16269779 0.16269779]\n"
     ]
    }
   ],
   "source": [
    "tmpMat = matriceDeTransitionV2(graph2, 0.85)\n",
    "print(puissanceIteree(tmpMat, 1e-10))"
   ]
  },
  {
   "cell_type": "markdown",
   "id": "df9fbfd3",
   "metadata": {},
   "source": [
    "Avec cette nouvelle matrice de tansition, le problème rencontré ne survient plus. \n",
    "\n",
    "On remarque encore une fois que le score est cohérent ; le sommet 1 a le plus haut score et la plus grande quantité d'arcs entrants, les sommets 4 et 5 n'ont aucun arc entrant et ont le plus petit score... \n",
    "\n",
    "Ainsi, et encore une fois jusqu'à preuve du contraire, on en déduit que l'algorithme fonctionne. "
   ]
  },
  {
   "cell_type": "markdown",
   "id": "ede967dd",
   "metadata": {},
   "source": [
    "Formons de cette manière la fonction PageRank qui sera utilisée dans le reste du rapport : "
   ]
  },
  {
   "cell_type": "code",
   "execution_count": 8,
   "id": "f9c01f84",
   "metadata": {},
   "outputs": [],
   "source": [
    "def PageRank (matrice, alpha, seuil) :\n",
    "    return puissanceIteree(matriceDeTransitionV2(matrice, alpha), seuil)"
   ]
  },
  {
   "cell_type": "markdown",
   "id": "eefc3690",
   "metadata": {},
   "source": [
    "## Partie 3 : PageRank - version itérative, analyse"
   ]
  },
  {
   "cell_type": "markdown",
   "id": "6c7ccfa0",
   "metadata": {},
   "source": [
    "### 1) Influence du critère d'arrêt (seuil)"
   ]
  },
  {
   "cell_type": "markdown",
   "id": "e5c8be3e",
   "metadata": {},
   "source": [
    "Pour analyser l'influence du seuil dans l'algorithme de puissance iterée, nous devons prendre un seul graphe  et un seul facteur d'amortissement sur lesquels on va faire varier le seuil afin d'observer les résultats.\n",
    "\n",
    "Ensuite, nous ferons une conclusion en comparant ces résultats et déduisant le sens de ces différences."
   ]
  },
  {
   "cell_type": "markdown",
   "id": "c4dc3ab9",
   "metadata": {},
   "source": [
    "##### Variation avec seuil entre 1e-2 et 1e-10 : seuil petit"
   ]
  },
  {
   "cell_type": "code",
   "execution_count": 9,
   "id": "a4aa273c",
   "metadata": {},
   "outputs": [
    {
     "name": "stdout",
     "output_type": "stream",
     "text": [
      "Seuil = 1e- 2  : \n",
      " [0.02876724 0.01674159 0.01674159 0.01674159 0.01674159 0.33876182\n",
      " 0.01273304 0.02075014 0.01273304 0.34677892 0.33475327 0.33475327\n",
      " 0.33475327 0.65276494]\n",
      "Seuil = 1e- 4  : \n",
      " [0.02876724 0.01674159 0.01674159 0.01674159 0.01674159 0.33876182\n",
      " 0.01273304 0.02075014 0.01273304 0.34677892 0.33475327 0.33475327\n",
      " 0.65276494 0.33475327]\n",
      "Seuil = 1e- 6  : \n",
      " [0.02876724 0.01674159 0.01674159 0.01674159 0.01674159 0.33876182\n",
      " 0.01273304 0.02075014 0.01273304 0.34677892 0.65276494 0.33475327\n",
      " 0.33475327 0.33475327]\n",
      "Seuil = 1e- 8  : \n",
      " [0.02876724 0.01674159 0.01674159 0.01674159 0.01674159 0.33876182\n",
      " 0.01273304 0.02075014 0.01273304 0.34677892 0.33475327 0.33475327\n",
      " 0.65276494 0.33475327]\n",
      "Seuil = 1e- 10  : \n",
      " [0.02876724 0.01674159 0.01674159 0.01674159 0.01674159 0.33876182\n",
      " 0.01273304 0.02075014 0.01273304 0.34677892 0.65276494 0.33475327\n",
      " 0.33475327 0.33475327]\n"
     ]
    }
   ],
   "source": [
    "for i in range (2,12,2) : \n",
    "    seuil = 1*10**i\n",
    "    print(\"Seuil = 1e-\",i,\" : \\n\",PageRank(graph1, 0.85, seuil))"
   ]
  },
  {
   "cell_type": "markdown",
   "id": "b4ca1179",
   "metadata": {},
   "source": [
    "##### Variation avec seuil entre 1e-20 et 1e-200 : seuil très petit"
   ]
  },
  {
   "cell_type": "code",
   "execution_count": 10,
   "id": "603de220",
   "metadata": {},
   "outputs": [
    {
     "name": "stdout",
     "output_type": "stream",
     "text": [
      "Seuil = 1e- 40  : \n",
      " [0.03061174 0.01781503 0.01781503 0.01781503 0.01781503 0.69888447\n",
      " 0.01354946 0.0220806  0.01354946 0.03061174 0.35621697 0.35621697\n",
      " 0.35621697 0.35621697]\n",
      "Seuil = 1e- 80  : \n",
      " [0.02876724 0.01674159 0.01674159 0.01674159 0.01674159 0.33876182\n",
      " 0.01273304 0.02075014 0.01273304 0.34677892 0.65276494 0.33475327\n",
      " 0.33475327 0.33475327]\n",
      "Seuil = 1e- 120  : \n",
      " [0.34677892 0.33475327 0.33475327 0.65276494 0.33475327 0.33876182\n",
      " 0.01273304 0.02075014 0.01273304 0.02876724 0.01674159 0.01674159\n",
      " 0.01674159 0.01674159]\n",
      "Seuil = 1e- 160  : \n",
      " [0.02545258 0.01794922 0.01794922 0.01794922 0.01794922 0.02045034\n",
      " 0.21387031 0.21887255 0.21387031 0.81914142 0.21637143 0.21637143\n",
      " 0.21637143 0.21637143]\n",
      "Seuil = 1e- 200  : \n",
      " [0.39115876 0.02313823 0.02313823 0.02313823 0.02313823 0.38221899\n",
      " 0.01866834 0.73682987 0.01866834 0.39115876 0.02313823 0.02313823\n",
      " 0.02313823 0.02313823]\n"
     ]
    }
   ],
   "source": [
    "for i in range (40,201,40) : \n",
    "    seuil = 1*10**i\n",
    "    print(\"Seuil = 1e-\",i,\" : \\n\",PageRank(graph1, 0.85, seuil))"
   ]
  },
  {
   "cell_type": "markdown",
   "id": "17385bda",
   "metadata": {},
   "source": [
    "##### Variation avec seuil entre 40 et 200 : seuil grand"
   ]
  },
  {
   "cell_type": "code",
   "execution_count": 11,
   "id": "b44fbd6c",
   "metadata": {},
   "outputs": [
    {
     "name": "stdout",
     "output_type": "stream",
     "text": [
      "Seuil = 2  : \n",
      " [0.81914142 0.21637143 0.21637143 0.21637143 0.21637143 0.02045034\n",
      " 0.21387031 0.21887255 0.21387031 0.02545258 0.01794922 0.01794922\n",
      " 0.01794922 0.01794922]\n",
      "Seuil = 4  : \n",
      " [0.02876724 0.01674159 0.01674159 0.01674159 0.01674159 0.33876182\n",
      " 0.01273304 0.02075014 0.01273304 0.34677892 0.33475327 0.65276494\n",
      " 0.33475327 0.33475327]\n",
      "Seuil = 6  : \n",
      " [0.02876724 0.01674159 0.01674159 0.01674159 0.01674159 0.33876182\n",
      " 0.01273304 0.02075014 0.01273304 0.34677892 0.33475327 0.33475327\n",
      " 0.33475327 0.65276494]\n",
      "Seuil = 8  : \n",
      " [0.02876724 0.01674159 0.01674159 0.01674159 0.01674159 0.33876182\n",
      " 0.01273304 0.02075014 0.01273304 0.34677892 0.33475327 0.33475327\n",
      " 0.33475327 0.65276494]\n",
      "Seuil = 10  : \n",
      " [0.34677892 0.33475327 0.33475327 0.33475327 0.65276494 0.33876182\n",
      " 0.01273304 0.02075014 0.01273304 0.02876724 0.01674159 0.01674159\n",
      " 0.01674159 0.01674159]\n"
     ]
    }
   ],
   "source": [
    "for i in range (2,12,2) : \n",
    "    seuil = i\n",
    "    print(\"Seuil =\",i,\" : \\n\",PageRank(graph1, 0.85, seuil))"
   ]
  },
  {
   "cell_type": "markdown",
   "id": "5914bd1a",
   "metadata": {},
   "source": [
    "##### Variation avec seuil entre 40 et 200 : seuil très grand"
   ]
  },
  {
   "cell_type": "code",
   "execution_count": 12,
   "id": "5876ca3e",
   "metadata": {},
   "outputs": [
    {
     "name": "stdout",
     "output_type": "stream",
     "text": [
      "Seuil = 40  : \n",
      " [0.81914142 0.21637143 0.21637143 0.21637143 0.21637143 0.02045034\n",
      " 0.21387031 0.21887255 0.21387031 0.02545258 0.01794922 0.01794922\n",
      " 0.01794922 0.01794922]\n",
      "Seuil = 80  : \n",
      " [0.39115876 0.02313823 0.02313823 0.02313823 0.02313823 0.38221899\n",
      " 0.01866834 0.73682987 0.01866834 0.39115876 0.02313823 0.02313823\n",
      " 0.02313823 0.02313823]\n",
      "Seuil = 120  : \n",
      " [0.02876724 0.01674159 0.01674159 0.01674159 0.01674159 0.33876182\n",
      " 0.01273304 0.02075014 0.01273304 0.34677892 0.33475327 0.33475327\n",
      " 0.33475327 0.65276494]\n",
      "Seuil = 160  : \n",
      " [0.03061174 0.35621697 0.35621697 0.35621697 0.35621697 0.69888447\n",
      " 0.01354946 0.0220806  0.01354946 0.03061174 0.01781503 0.01781503\n",
      " 0.01781503 0.01781503]\n",
      "Seuil = 200  : \n",
      " [0.34677892 0.33475327 0.33475327 0.65276494 0.33475327 0.33876182\n",
      " 0.01273304 0.02075014 0.01273304 0.02876724 0.01674159 0.01674159\n",
      " 0.01674159 0.01674159]\n"
     ]
    }
   ],
   "source": [
    "for i in range (40,201,40) : \n",
    "    print(\"Seuil =\",i,\" : \\n\",PageRank(graph1, 0.85, i))"
   ]
  },
  {
   "cell_type": "markdown",
   "id": "297d0e9e",
   "metadata": {},
   "source": [
    "Il est logique que au plus le seuil est petit, au plus l'approximation est proche du score exact. Ainsi, on prendra ce score comme référence pour observer l'écart des autres.\n",
    "\n",
    "En observation, on remarque que certains score oscillent puisqu'ils augmentent grandement puis réduisent grandement lorsqu'on augmente ou diminue le seuil. Voir : seuil de 1e-4 à 1e-10. On en déduit que le score véritable est dans cette intervalle. Si on se concentre sur le score du sommet 2, on voit qu'à un petit seuil le score oscille entre 0.652 et 0.016. Ensuite, si l'on regarde son score à un seuil de 1e-200 où le score est de 0.0167, notre hypothèse se confirme.\n",
    "\n",
    "Certains scores supposés bas sont anormalements élevés à certains seuils tandis que d'autres supposés hauts sont anormalements bas. Peut être notre algorithme présente-t-il un problème. \n",
    "\n",
    "On observe aussi qu'au plus le seuil est élevé, au plus les scores sont proches. Voir : seuil très grand. On constate que l'étendue pour le seuil à 200 par exemple va de 0.22 à 0.58 tandis que pour le seuil à 1e-200 elle va de 0.016 à 0.65. Cette propriété nous confirme qu'un seuil très bas est plus juste.\n",
    "\n",
    "Nous avons ainsi regardé une quantité suffisantes de plusieurs cas divers et avons apporté des conclusions à chacune de nos observations."
   ]
  },
  {
   "cell_type": "markdown",
   "id": "8195565a",
   "metadata": {},
   "source": [
    "### 2) Influence des Hubs et des Autorités"
   ]
  },
  {
   "cell_type": "markdown",
   "id": "880d7e7e",
   "metadata": {},
   "source": [
    "Pour cette analyse, nous devrons créer une nouvelle matrice d'adjacence qui représentera un graphe avec des hubs (sommet avec beaucoup d'arcs sortants) et des autorités (sommet avec beaucoup d'arcs entrants)."
   ]
  },
  {
   "cell_type": "code",
   "execution_count": 13,
   "id": "5774a96f",
   "metadata": {},
   "outputs": [],
   "source": [
    "graph3 = np.array([[0,1,1,1,1,1,0,0,0,0,0,0,0,0,0,1,1,0,1]\n",
    "                  ,[1,0,1,0,0,0,0,0,0,0,0,0,0,0,0,1,1,0,0]\n",
    "                  ,[1,0,0,1,0,0,0,0,0,0,0,0,0,0,0,0,1,0,0]\n",
    "                  ,[1,0,0,0,1,0,0,0,0,0,0,0,0,0,0,1,0,1,0]\n",
    "                  ,[1,1,0,0,0,0,0,0,0,0,0,0,0,0,0,1,1,0,0]\n",
    "                  ,[0,0,0,0,0,0,1,1,1,0,0,0,0,0,1,0,1,0,1]\n",
    "                  ,[1,0,0,0,0,0,0,1,0,0,0,0,0,0,1,0,0,0,1]\n",
    "                  ,[0,0,0,0,0,1,0,0,0,0,0,0,0,0,0,1,1,0,0]\n",
    "                  ,[0,0,0,0,0,0,0,1,0,1,0,0,0,0,0,1,1,1,0]\n",
    "                  ,[0,0,0,0,0,1,0,0,0,0,1,1,1,1,0,0,1,0,1]\n",
    "                  ,[0,0,0,0,0,0,0,0,0,1,0,1,0,0,0,0,1,0,0]\n",
    "                  ,[0,0,0,0,0,0,0,0,0,1,0,0,1,0,1,0,1,0,1]\n",
    "                  ,[0,0,0,0,0,0,0,0,0,1,0,0,0,1,0,1,1,1,0]\n",
    "                  ,[0,0,0,0,0,0,0,0,0,1,1,0,0,0,0,1,0,1,0]\n",
    "                  ,[1,1,1,1,1,0,1,0,1,1,1,1,0,1,0,1,0,0,0]#Hub\n",
    "                  ,[0,0,0,0,0,0,1,0,0,0,1,0,0,0,1,0,0,0,1]#Autorité\n",
    "                  ,[0,0,1,0,1,1,0,0,0,0,0,0,0,1,0,0,0,1,1]#Autorité\n",
    "                  ,[1,0,1,0,1,1,1,0,1,0,1,1,1,0,0,1,1,0,0]#Hub\n",
    "                  ,[1,1,1,1,0,1,1,1,1,1,0,0,1,1,0,1,1,0,0]])#Hub"
   ]
  },
  {
   "cell_type": "code",
   "execution_count": 52,
   "id": "e1b5cf48",
   "metadata": {},
   "outputs": [
    {
     "name": "stdout",
     "output_type": "stream",
     "text": [
      "Graphe 1 avec 3 Hubs et 2 Autorités : \n",
      " [0.27033721 0.15777261 0.2496386  0.1655906  0.20136584 0.25823346\n",
      " 0.20898436 0.15616053 0.15290112 0.21305159 0.18578872 0.12613409\n",
      " 0.140363   0.20784055 0.15836982 0.34629046 0.42743695 0.18339012\n",
      " 0.305882  ]\n"
     ]
    }
   ],
   "source": [
    "print(\"Graphe 1 avec 3 Hubs et 2 Autorités : \\n\",PageRank(graph3, 0.85, 1e-10))"
   ]
  },
  {
   "cell_type": "markdown",
   "id": "ff6f4ab0",
   "metadata": {},
   "source": [
    "Théoriquement, le score des autorités devrait être élevé tandis que le score des Hubs devrait être dans la moyenne. Si on observe le résultat, c'est en effet le cas. Les deux autorités ont le score le plus haut (0.43 et 0.35), et les trois hubs ont un score moyen autant que les sommets du graphe initial.\n",
    "\n",
    "Ainsi, avoir augmenté d'autant le nombre d'arcs entrant dans un seul sommet réduit l'écart des scores. La valeur du score le plus élevé était avant d'environ 0.65, tandis qu'ici, l'autorité la plus importante a un score de 0.42. En conséquence, puisque la valeur du score le plus élevé est plus bas, alors les autres scores sont plus concentrés (il y a moins d'écart entre les valeurs).\n",
    "\n",
    "\n",
    "Cette conséquence est un effet négatif, car cette concentration des score obstrue la visibilité de l'information et rendra moins pertinent de potentielles données statistiques faites dessus."
   ]
  },
  {
   "cell_type": "markdown",
   "id": "ee44bfba",
   "metadata": {},
   "source": [
    "### 3) Méthode d'acroissement du score"
   ]
  },
  {
   "cell_type": "markdown",
   "id": "71d68335",
   "metadata": {},
   "source": [
    "D'après les analyses déjà faites, il y a deux méthodes pour accroître le score d'un sommet.\n",
    "\n",
    "La première consiste simplement à augmenter le nombre d'arcs rentrants sur ce sommet ; puisque le score est basé sur ce paramètre.\n",
    "\n",
    "Rappelons que la valeur maximum du vecteur a pour effet de compresser les autres scores en dessous de cette valeur. Cette compression est d'autant plus importante lorsque l'autorité a beaucoup plus d'arcs entrant que les autres sommets.\n",
    "\n",
    "Ainsi, si on réduit le nombre d'arcs entrants de l'autorité la plus importante, ou même si on supprime le sommet du graphe, cela aura pour conséquence d'augmenter le score de tous les autres sommets.\\n\",\n",
    "\n",
    "Cela fait au total trois méthodes : augmenter les arcs entrants, réduire le score de l'autorité la plus importante, ou supprimer l'autorité la plus importante. En voici une démonstration. Nous prendrons la matrice d'adjacence du premier graphe et chercherons à accroître le score du sommet 7 (puisque c'est un sommet au score très bas). Les autorités les plus importantes de ce graphe sont les sommets 1 et 10 ; il faudra ainsi faire les mêmes opérations sur ces deux sommets car ils ont le même score."
   ]
  },
  {
   "cell_type": "code",
   "execution_count": 15,
   "id": "f0c58bf5",
   "metadata": {},
   "outputs": [],
   "source": [
    "#                                       7\n",
    "graph1Augmente = np.array([[0,1,1,1,1,1,1,0,0,0,0,0,0,0]\n",
    "                          ,[1,0,1,0,0,0,0,0,0,0,0,0,0,0]\n",
    "                          ,[1,0,0,1,0,0,1,0,0,0,0,0,0,0]\n",
    "                          ,[1,0,0,0,1,0,1,0,0,0,0,0,0,0]\n",
    "                          ,[1,1,0,0,0,0,1,0,0,0,0,0,0,0]\n",
    "                          ,[0,0,0,0,0,0,1,1,1,0,0,0,0,0]\n",
    "                          ,[1,0,0,0,0,0,1,1,0,0,0,0,0,0]\n",
    "                          ,[0,0,0,0,0,1,0,0,0,0,0,0,0,0]\n",
    "                          ,[0,0,0,0,0,0,1,1,0,1,0,0,0,0]\n",
    "                          ,[0,0,0,0,0,1,1,0,0,0,1,1,1,1]\n",
    "                          ,[0,0,0,0,0,0,0,0,0,1,0,1,0,0]\n",
    "                          ,[0,0,0,0,0,0,1,0,0,1,0,0,1,0]\n",
    "                          ,[0,0,0,0,0,0,1,0,0,1,0,0,0,1]\n",
    "                          ,[0,0,0,0,0,0,1,0,0,1,1,0,0,0]])\n",
    "\n",
    "#                         1                 10\n",
    "graph1Reduit = np.array([[0,1,1,1,1,1,0,0,0,0,0,0,0,0]\n",
    "                        ,[0,0,1,0,0,0,0,0,0,0,0,0,0,0]\n",
    "                        ,[0,0,0,1,0,0,0,0,0,0,0,0,0,0]\n",
    "                        ,[0,0,0,0,1,0,0,0,0,0,0,0,0,0]\n",
    "                        ,[0,1,0,0,0,0,0,0,0,0,0,0,0,0]\n",
    "                        ,[0,0,0,0,0,0,1,1,1,0,0,0,0,0]\n",
    "                        ,[1,0,0,0,0,0,0,1,0,0,0,0,0,0]\n",
    "                        ,[0,0,0,0,0,1,0,0,0,0,0,0,0,0]\n",
    "                        ,[0,0,0,0,0,0,0,1,0,1,0,0,0,0]\n",
    "                        ,[0,0,0,0,0,1,0,0,0,0,1,1,1,1]\n",
    "                        ,[0,0,0,0,0,0,0,0,0,0,0,1,0,0]\n",
    "                        ,[0,0,0,0,0,0,0,0,0,0,0,0,1,0]\n",
    "                        ,[0,0,0,0,0,0,0,0,0,0,0,0,0,1]\n",
    "                        ,[0,0,0,0,0,0,0,0,0,0,1,0,0,0]])\n",
    "\n",
    "graph1Supprime = np.array([[0,1,0,0,0,0,0,0,0,0,0,0]\n",
    "                        ,[0,0,1,0,0,0,0,0,0,0,0,0]\n",
    "                        ,[0,0,0,1,0,0,0,0,0,0,0,0]\n",
    "                        ,[1,0,0,0,0,0,0,0,0,0,0,0]\n",
    "                        ,[0,0,0,0,0,1,1,1,0,0,0,0]\n",
    "                        ,[0,0,0,0,0,0,1,0,0,0,0,0]\n",
    "                        ,[0,0,0,0,1,0,0,0,0,0,0,0]\n",
    "                        ,[0,0,0,0,0,0,1,0,1,0,0,0]\n",
    "                        ,[0,0,0,0,0,0,0,0,0,1,0,0]\n",
    "                        ,[0,0,0,0,0,0,0,0,0,0,1,0]\n",
    "                        ,[0,0,0,0,0,0,0,0,0,0,0,1]\n",
    "                        ,[0,0,0,0,0,0,0,0,0,0,0,0]])\n",
    "# NOTE : les sommets 1 et 10 ont été supprimés ici. Ainsi, le sommet observé n'est plus le septième mais le sixième\\n\","
   ]
  },
  {
   "cell_type": "code",
   "execution_count": 16,
   "id": "860f2271",
   "metadata": {},
   "outputs": [
    {
     "name": "stdout",
     "output_type": "stream",
     "text": [
      "Graphe inchangé : \n",
      " [0.3941901  0.23484301 0.23484301 0.23484301 0.23484301 0.37730606\n",
      " 0.14716787 0.24968338 0.14716787 0.3941901  0.23484301 0.23484301\n",
      " 0.23484301 0.23484301]\n",
      "Méthode d'augmentation des arcs entrants : \n",
      " [0.43548085 0.19377506 0.19377506 0.19377506 0.19377506 0.25689434\n",
      " 0.68423543 0.30944004 0.0853494  0.10110285 0.05641158 0.05641158\n",
      " 0.05641158 0.05641158]\n",
      "Méthode de réduction du score de l'autorité : \n",
      " [0.15378584 0.21095865 0.21095865 0.21095865 0.21095865 0.4481711\n",
      " 0.25404643 0.51646383 0.25404643 0.15378584 0.21095865 0.21095865\n",
      " 0.21095865 0.21095865]\n",
      "Méthode de suppression de l'autorité : \n",
      " [0.07813201 0.07813201 0.07813201 0.07813201 0.45333662 0.30879268\n",
      " 0.68845927 0.30879268 0.2199329  0.16530548 0.13172275 0.11107744]\n"
     ]
    }
   ],
   "source": [
    "print(\"Graphe inchangé : \\n\",PageRank(graph1, 0.85, 1e-10))\n",
    "print(\"Méthode d'augmentation des arcs entrants : \\n\",PageRank(graph1Augmente, 0.85, 1e-10))\n",
    "print(\"Méthode de réduction du score de l'autorité : \\n\",PageRank(graph1Reduit, 0.85, 1e-10))\n",
    "print(\"Méthode de suppression de l'autorité : \\n\",PageRank(graph1Supprime, 0.85, 1e-10))"
   ]
  },
  {
   "cell_type": "markdown",
   "id": "c343b8f6",
   "metadata": {},
   "source": [
    "On observe que toutes nos méthodes fonctionnent ; le score désiré a bien été augmenté. Il en va de soi qu'en combinant plusieurs méthodes ou en les renforçant (ajouter plus d'arcs, réduire encore plus le score des autorités, supprimer plus d'autorités), le score voulu s'en verra d'autant plus augmenté.\n",
    "\n",
    "La méthode la plus efficace dépendra de la situation, c'est-à-dire, le placement du sommet en question dans la hiérarchie des scores, mais aussi le score des autorités, l'ordre et la taille du graphe, etc."
   ]
  },
  {
   "cell_type": "markdown",
   "id": "1020e9c1",
   "metadata": {},
   "source": [
    "### 4) Influence du facteur d'amortissement"
   ]
  },
  {
   "cell_type": "markdown",
   "id": "c24764b7",
   "metadata": {},
   "source": [
    "Finalement, nous allons faire varier le facteur d'amortissement en utilisant un même graphe et seuil pour voir les différences des résultat pour enfin les interpréter. "
   ]
  },
  {
   "cell_type": "code",
   "execution_count": 17,
   "id": "483e24e5",
   "metadata": {},
   "outputs": [
    {
     "name": "stdout",
     "output_type": "stream",
     "text": [
      "Facteur d'amortissement = 0.0  : \n",
      " [0.26726124 0.26726124 0.26726124 0.26726124 0.26726124 0.26726124\n",
      " 0.26726124 0.26726124 0.26726124 0.26726124 0.26726124 0.26726124\n",
      " 0.26726124 0.26726124]\n",
      "Facteur d'amortissement = 0.2  : \n",
      " [0.34569096 0.2517601  0.2517601  0.2517601  0.2517601  0.30726708\n",
      " 0.20759637 0.27078546 0.20759637 0.34569096 0.2517601  0.2517601\n",
      " 0.2517601  0.2517601 ]\n",
      "Facteur d'amortissement = 0.4  : \n",
      " [0.37326846 0.24389073 0.24389073 0.24389073 0.24389073 0.33852428\n",
      " 0.17649658 0.26187596 0.17649658 0.37326846 0.24389073 0.24389073\n",
      " 0.24389073 0.24389073]\n",
      "Facteur d'amortissement = 0.6000000000000001  : \n",
      " [0.38599825 0.23899293 0.23899293 0.23899293 0.23899293 0.35949683\n",
      " 0.15940423 0.25497519 0.15940423 0.38599825 0.23899293 0.23899293\n",
      " 0.23899293 0.23899293]\n",
      "Facteur d'amortissement = 0.8  : \n",
      " [0.39294697 0.23555593 0.23555593 0.23555593 0.23555593 0.37426976\n",
      " 0.1490989  0.25050699 0.1490989  0.39294697 0.23555593 0.23555593\n",
      " 0.23555593 0.23555593]\n",
      "Facteur d'amortissement = 1.0  : \n",
      " [0.39715975 0.23295747 0.23295747 0.23295747 0.23295747 0.38525704\n",
      " 0.14243144 0.24774667 0.14243144 0.39715974 0.23295746 0.23295746\n",
      " 0.23295746 0.23295746]\n"
     ]
    }
   ],
   "source": [
    "for i in range (6) : \n",
    "    alpha = 0.2*i\n",
    "    print(\"Facteur d'amortissement =\",alpha,\" : \\n\",PageRank(graph1, alpha, 1e-10))"
   ]
  },
  {
   "cell_type": "markdown",
   "id": "d369e515",
   "metadata": {},
   "source": [
    "Nous n'avons pas besoin de faire varier le facteur d'amortissement plus que cela puisqu'il doit être compris entre 0 et 1, et cet échantillon montre une quantité satisfaisante de résultats différents.\n",
    "\n",
    "La première chose à relever est le résultat du facteur d'amortissement à zéro ; toutes les valeurs sont identiques.\n",
    "\n",
    "En constatant l'évolution des valeurs avec le facteur allant de 0.2 à 0.8, on remarque qu'au plus le facteur augmente au plus l'écart entre la plus grande valeur et la plus petite est élevé. Pour cela, observons par exemple le sommet 1 et le sommet 7 sur chacun de ces tests. On voit que le sommet 1 a un score de 0.346 lorsque le facteur est à 0.2, et il augmente jusqu'à 0.393 lorsque le facteur est à 0.8, tandis que pour les mêmes facteurs, le sommet 7 va de 0.207 à 0.149. On en conclue qu'au plus le facteur d'amortissement est élevé, au plus l'écart du nombre d'arcs entrants aura de l'importance.\n",
    "\n",
    "Probablement que l'on préfèrera utiliser un facteur d'amortissement élevé pour un graphe avec une taille et un ordre petits tandis qu'on utilisera un facteur d'amortissement bas pour les graphes à la taille et à l'ordre élevés. La raison de ceci est que le score de chaque sommet fera plus de sens si l'écart de score entre les autorités et celles qui ont peu d'arcs entrant doit être élevé. Ainsi, si cet écart est de plusieurs dizaines d'arcs, alors même avec un facteur d'amortissement faible saura faire ressortir un écart important. Si l'écart est de deux ou trois arcs, un facteur d'amortissement élevé sera nécessaire pour faire ressortir l'écart.\n",
    "\n",
    "En conclusion, le facteur d'amortissement permet de palier au problème des autorités relevé en partie 2 (où le score le plus élevé a une valeur trop basse, ainsi les scores moyens ont des valeurs proches). Le faire varier est aussi une nouvelle méthode pour accroître le score d'un sommet ; si le sommet en question est parmis les plus petit, on voudra réduire le facteur d'amortissement. S'il est parmis les plus grands, on augmentera le facteur d'amortissement. Ces opérations permettent ainsi d'accroître le sommet désiré."
   ]
  },
  {
   "cell_type": "markdown",
   "id": "85106e08",
   "metadata": {},
   "source": [
    "## Partie 4 : PageRank - version itérative, analyse"
   ]
  },
  {
   "cell_type": "markdown",
   "id": "444bdf9a",
   "metadata": {},
   "source": [
    "### 1) Exploration de sites web"
   ]
  },
  {
   "cell_type": "markdown",
   "id": "4e534f36",
   "metadata": {},
   "source": [
    "Voici les trois sites web choisis, les résultats du logiciel d'exploration, les matrices obtenues, et l'application de l'algorithme PageRank."
   ]
  },
  {
   "cell_type": "markdown",
   "id": "c534aaaf",
   "metadata": {},
   "source": [
    "#### www.google.fr : profondeur = 10"
   ]
  },
  {
   "cell_type": "raw",
   "id": "54751665",
   "metadata": {},
   "source": [
    ";extern;www.google.fr;www.google.fr/imghp?hl=fr&tab=wi;www.google.fr/intl/fr/about/products?tab=wh;www.google.fr/history/optout?hl=fr;www.google.fr/preferences?hl=fr;www.google.fr/advanced_search?hl=fr&amp;authuser=0;www.google.fr/intl/fr/ads;www.google.fr/services;www.google.fr/intl/fr/about.html;www.google.fr/setprefdomain?prefdom=US&amp;sig=6488201bK_ZnTWciUM4Eqvs2wEuHEHVmTSLNw%3D\n",
    "\n",
    "extern;0;1;1;1;1;1;1;1;1;1;1\n",
    "www.google.fr;0;0;0;0;1;0;0;0;0;0;0\n",
    "www.google.fr/imghp?hl=fr&tab=wi;0;1;0;0;0;0;0;0;0;0;1\n",
    "www.google.fr/intl/fr/about/products?tab=wh;0;1;0;0;0;1;1;0;0;0;1\n",
    "www.google.fr/history/optout?hl=fr;0;1;1;0;0;0;0;0;0;0;1\n",
    "www.google.fr/preferences?hl=fr;0;1;1;0;0;0;1;0;0;0;1\n",
    "www.google.fr/advanced_search?hl=fr&amp;authuser=0;0;1;0;0;0;0;0;0;0;0;1\n",
    "www.google.fr/intl/fr/ads;0;1;1;0;0;0;0;0;0;0;1\n",
    "www.google.fr/services;0;1;1;0;0;0;0;0;0;0;1\n",
    "www.google.fr/intl/fr/about.html;0;1;1;0;0;0;0;0;0;0;1\n",
    "www.google.fr/setprefdomain?prefdom=US&amp;sig=6488201bK_ZnTWciUM4Eqvs2wEuHEHVmTSLNw%3D;0;1;0;0;0;0;0;0;0;0;0"
   ]
  },
  {
   "cell_type": "code",
   "execution_count": 18,
   "id": "1a393c39",
   "metadata": {},
   "outputs": [],
   "source": [
    "googleMat = np.array([\n",
    "            [0,0,0,1,0,0,0,0,0,0],\n",
    "            [1,0,0,0,0,0,0,0,0,1],\n",
    "            [1,0,0,0,1,1,0,0,0,1],\n",
    "            [1,1,0,0,0,0,0,0,0,1],\n",
    "            [1,1,0,0,0,1,0,0,0,1],\n",
    "            [0,1,0,0,0,0,0,0,0,1],\n",
    "            [1,1,0,0,0,0,0,0,0,1],\n",
    "            [1,1,0,0,0,0,0,0,0,1],\n",
    "            [1,1,0,0,0,0,0,0,0,1],\n",
    "            [1,0,0,0,0,0,0,0,0,0]])"
   ]
  },
  {
   "cell_type": "markdown",
   "id": "35524e2f",
   "metadata": {},
   "source": [
    "#### www.wikipedia.org : profondeur = 28"
   ]
  },
  {
   "cell_type": "raw",
   "id": "86a367b3",
   "metadata": {},
   "source": [
    ";extern;fr.wikipedia.org;fr.wikipedia.org/wiki/Wikip%C3%A9dia:Accueil_principal;fr.wikipedia.org/wiki/Portail:Accueil;fr.wikipedia.org/wiki/Sp%C3%A9cial:Page_au_hasard;fr.wikipedia.org/wiki/Wikip%C3%A9dia:Contact;fr.wikipedia.org/wiki/Aide:D%C3%A9buter;fr.wikipedia.org/wiki/Aide:Accueil;fr.wikipedia.org/wiki/Wikip%C3%A9dia:Accueil_de_la_communaut%C3%A9;fr.wikipedia.org/wiki/Sp%C3%A9cial:Modifications_r%C3%A9centes;fr.wikipedia.org/wiki/Sp%C3%A9cial:Recherche;fr.wikipedia.org/w/index.php?title=Sp%C3%A9cial:Cr%C3%A9er_un_compte&amp;returnto=Wikip%C3%A9dia%3AAccueil+principal;fr.wikipedia.org/w/index.php?title=Sp%C3%A9cial:Connexion&amp;returnto=Wikip%C3%A9dia%3AAccueil+principal;fr.wikipedia.org/wiki/Aide:Introduction;fr.wikipedia.org/wiki/Sp%C3%A9cial:Mes_contributions;fr.wikipedia.org/wiki/Sp%C3%A9cial:Mes_discussions;fr.wikipedia.org/wiki/Discussion_Wikip%C3%A9dia:Accueil_principal;fr.wikipedia.org/w/index.php?title=Wikip%C3%A9dia:Accueil_principal&amp;action=edit;fr.wikipedia.org/w/index.php?title=Wikip%C3%A9dia:Accueil_principal&amp;action=history;fr.wikipedia.org/wiki/Sp%C3%A9cial:Pages_li%C3%A9es/Wikip%C3%A9dia:Accueil_principal;fr.wikipedia.org/wiki/Sp%C3%A9cial:Suivi_des_liens/Wikip%C3%A9dia:Accueil_principal;fr.wikipedia.org/wiki/Aide:Importer_un_fichier;fr.wikipedia.org/wiki/Sp%C3%A9cial:Pages_sp%C3%A9ciales;fr.wikipedia.org/w/index.php?title=Wikip%C3%A9dia:Accueil_principal&amp;oldid=205078181;fr.wikipedia.org/w/index.php?title=Wikip%C3%A9dia:Accueil_principal&amp;action=info;fr.wikipedia.org/w/index.php?title=Sp%C3%A9cial:Livre&amp;bookcmd=book_creator&amp;referer=Wikip%C3%A9dia%3AAccueil+principal;fr.wikipedia.org/w/index.php?title=Sp%C3%A9cial:DownloadAsPdf&amp;page=Wikip%C3%A9dia%3AAccueil_principal&amp;action=show-download-screen;fr.wikipedia.org/w/index.php?title=Wikip%C3%A9dia:Accueil_principal&amp;printable=yes;fr.wikipedia.org/wiki/Wikip%C3%A9dia:Principes_fondateurs\n",
    "\n",
    "extern;0;1;1;1;1;1;1;1;1;1;1;1;1;1;1;1;1;1;1;1;1;1;1;1;1;1;1;1;1\n",
    "fr.wikipedia.org;0;0;0;0;0;0;0;0;0;0;0;0;0;0;0;0;0;0;0;0;0;0;0;0;0;0;0;0;0\n",
    "fr.wikipedia.org/wiki/Wikip%C3%A9dia:Accueil_principal;0;1;1;1;1;1;1;1;1;1;1;1;1;1;1;1;1;1;1;1;1;1;1;1;1;1;1;1;1\n",
    "fr.wikipedia.org/wiki/Portail:Accueil;0;1;1;1;1;1;1;1;1;1;1;1;1;1;1;1;1;1;1;1;1;1;1;1;1;1;1;1;1\n",
    "fr.wikipedia.org/wiki/Sp%C3%A9cial:Page_au_hasard;0;1;1;1;1;1;1;1;1;1;1;1;1;1;1;1;1;1;1;1;1;1;1;1;1;1;1;1;1\n",
    "fr.wikipedia.org/wiki/Wikip%C3%A9dia:Contact;0;1;1;1;1;1;1;1;1;1;1;1;1;1;1;1;1;1;1;1;1;1;1;1;1;1;1;1;1\n",
    "fr.wikipedia.org/wiki/Aide:D%C3%A9buter;0;1;1;1;1;1;1;1;1;1;1;1;1;1;1;1;1;1;1;1;1;1;1;1;1;1;1;1;1\n",
    "fr.wikipedia.org/wiki/Aide:Accueil;0;1;1;1;1;1;1;1;1;1;1;1;1;1;1;1;1;1;1;1;1;1;1;1;1;1;1;1;1\n",
    "fr.wikipedia.org/wiki/Wikip%C3%A9dia:Accueil_de_la_communaut%C3%A9;0;1;1;1;1;1;1;1;1;1;1;1;1;1;1;1;1;1;1;1;1;1;1;1;1;1;1;1;1\n",
    "fr.wikipedia.org/wiki/Sp%C3%A9cial:Modifications_r%C3%A9centes;0;1;1;1;1;1;1;1;1;1;1;1;1;1;1;1;1;1;1;1;1;1;1;1;1;1;1;1;1\n",
    "fr.wikipedia.org/wiki/Sp%C3%A9cial:Recherche;0;1;1;1;1;1;1;1;1;1;1;1;1;1;1;1;1;1;1;1;1;1;1;1;1;1;1;1;1\n",
    "fr.wikipedia.org/w/index.php?title=Sp%C3%A9cial:Cr%C3%A9er_un_compte&amp;returnto=Wikip%C3%A9dia%3AAccueil+principal;0;1;1;0;0;0;0;0;0;0;0;0;0;0;0;0;0;0;0;0;0;0;0;0;0;0;0;0;0\n",
    "fr.wikipedia.org/w/index.php?title=Sp%C3%A9cial:Connexion&amp;returnto=Wikip%C3%A9dia%3AAccueil+principal;0;1;1;0;0;0;0;0;0;0;0;0;0;0;0;0;0;0;0;0;0;0;0;0;0;0;0;0;0\n",
    "fr.wikipedia.org/wiki/Aide:Introduction;0;1;1;1;1;1;1;1;1;1;1;1;1;1;1;1;1;1;1;1;1;1;1;1;1;1;1;1;1\n",
    "fr.wikipedia.org/wiki/Sp%C3%A9cial:Mes_contributions;0;1;1;1;1;1;1;1;1;1;1;1;1;1;1;1;1;1;1;1;1;1;1;1;1;1;1;1;1\n",
    "fr.wikipedia.org/wiki/Sp%C3%A9cial:Mes_discussions;0;1;1;1;1;1;1;1;1;1;1;1;1;1;1;1;1;1;1;1;1;1;1;1;1;1;1;1;1\n",
    "fr.wikipedia.org/wiki/Discussion_Wikip%C3%A9dia:Accueil_principal;0;1;1;0;0;0;0;0;0;0;0;0;0;0;0;0;1;1;1;1;1;0;0;1;1;0;0;1;0\n",
    "fr.wikipedia.org/w/index.php?title=Wikip%C3%A9dia:Accueil_principal&amp;action=edit;0;1;1;0;0;0;0;0;0;0;0;0;0;0;0;0;0;1;1;1;1;0;0;1;1;0;0;1;0\n",
    "fr.wikipedia.org/w/index.php?title=Wikip%C3%A9dia:Accueil_principal&amp;action=history;0;1;1;0;0;0;0;0;0;0;0;0;0;0;0;0;0;1;1;1;1;0;0;1;1;0;0;1;0\n",
    "fr.wikipedia.org/wiki/Sp%C3%A9cial:Pages_li%C3%A9es/Wikip%C3%A9dia:Accueil_principal;0;1;1;0;0;0;0;0;0;0;0;0;0;0;0;0;0;1;1;0;0;0;0;1;1;0;0;1;0\n",
    "fr.wikipedia.org/wiki/Sp%C3%A9cial:Suivi_des_liens/Wikip%C3%A9dia:Accueil_principal;0;1;1;0;0;0;0;0;0;0;0;0;0;0;0;0;0;1;1;0;0;0;0;1;1;0;0;1;0\n",
    "fr.wikipedia.org/wiki/Aide:Importer_un_fichier;0;1;1;1;1;1;1;1;1;1;1;1;1;1;1;1;1;1;1;1;1;1;1;1;1;1;1;1;1\n",
    "fr.wikipedia.org/wiki/Sp%C3%A9cial:Pages_sp%C3%A9ciales;0;1;1;1;1;1;1;1;1;1;1;1;1;1;1;1;1;1;1;1;1;1;1;1;1;1;1;1;1\n",
    "fr.wikipedia.org/w/index.php?title=Wikip%C3%A9dia:Accueil_principal&amp;oldid=205078181;0;1;1;0;0;0;0;0;0;0;0;0;0;0;0;0;0;1;1;0;0;0;0;1;1;0;0;1;0\n",
    "fr.wikipedia.org/w/index.php?title=Wikip%C3%A9dia:Accueil_principal&amp;action=info;0;1;1;0;0;0;0;0;0;0;0;0;0;0;0;0;0;1;1;0;0;0;0;1;1;0;0;1;0\n",
    "fr.wikipedia.org/w/index.php?title=Sp%C3%A9cial:Livre&amp;bookcmd=book_creator&amp;referer=Wikip%C3%A9dia%3AAccueil+principal;0;1;1;0;0;0;0;0;0;0;0;0;0;0;0;0;0;1;1;0;0;0;0;1;1;0;0;1;0\n",
    "fr.wikipedia.org/w/index.php?title=Sp%C3%A9cial:DownloadAsPdf&amp;page=Wikip%C3%A9dia%3AAccueil_principal&amp;action=show-download-screen;0;1;1;0;0;0;0;0;0;0;0;0;0;0;0;0;0;1;1;0;0;0;0;1;1;0;0;1;0\n",
    "fr.wikipedia.org/w/index.php?title=Wikip%C3%A9dia:Accueil_principal&amp;printable=yes;0;1;1;0;0;0;0;0;0;0;0;0;0;0;0;0;0;1;1;0;0;0;0;1;1;0;0;1;0\n",
    "fr.wikipedia.org/wiki/Wikip%C3%A9dia:Principes_fondateurs;0;1;1;0;0;0;0;1;1;0;0;0;0;0;0;0;0;1;1;0;0;1;0;1;1;0;0;1;1"
   ]
  },
  {
   "cell_type": "code",
   "execution_count": 19,
   "id": "641e1428",
   "metadata": {},
   "outputs": [],
   "source": [
    "wikipediaMat = np.array([\n",
    "            [0,0,0,0,0,0,0,0,0,0,0,0,0,0,0,0,0,0,0,0,0,0,0,0,0,0,0,0],\n",
    "            [1,1,1,1,1,1,1,1,1,1,1,1,1,1,1,1,1,1,1,1,1,1,1,1,1,1,1,1],\n",
    "            [1,1,1,1,1,1,1,1,1,1,1,1,1,1,1,1,1,1,1,1,1,1,1,1,1,1,1,1],\n",
    "            [1,1,1,1,1,1,1,1,1,1,1,1,1,1,1,1,1,1,1,1,1,1,1,1,1,1,1,1],\n",
    "            [1,1,1,1,1,1,1,1,1,1,1,1,1,1,1,1,1,1,1,1,1,1,1,1,1,1,1,1],\n",
    "            [1,1,1,1,1,1,1,1,1,1,1,1,1,1,1,1,1,1,1,1,1,1,1,1,1,1,1,1],\n",
    "            [1,1,1,1,1,1,1,1,1,1,1,1,1,1,1,1,1,1,1,1,1,1,1,1,1,1,1,1],\n",
    "            [1,1,1,1,1,1,1,1,1,1,1,1,1,1,1,1,1,1,1,1,1,1,1,1,1,1,1,1],\n",
    "            [1,1,1,1,1,1,1,1,1,1,1,1,1,1,1,1,1,1,1,1,1,1,1,1,1,1,1,1],\n",
    "            [1,1,1,1,1,1,1,1,1,1,1,1,1,1,1,1,1,1,1,1,1,1,1,1,1,1,1,1],\n",
    "            [1,1,0,0,0,0,0,0,0,0,0,0,0,0,0,0,0,0,0,0,0,0,0,0,0,0,0,0],\n",
    "            [1,1,0,0,0,0,0,0,0,0,0,0,0,0,0,0,0,0,0,0,0,0,0,0,0,0,0,0],\n",
    "            [1,1,1,1,1,1,1,1,1,1,1,1,1,1,1,1,1,1,1,1,1,1,1,1,1,1,1,1],\n",
    "            [1,1,1,1,1,1,1,1,1,1,1,1,1,1,1,1,1,1,1,1,1,1,1,1,1,1,1,1],\n",
    "            [1,1,1,1,1,1,1,1,1,1,1,1,1,1,1,1,1,1,1,1,1,1,1,1,1,1,1,1],\n",
    "            [1,1,0,0,0,0,0,0,0,0,0,0,0,0,0,1,1,1,1,1,0,0,1,1,0,0,1,0],\n",
    "            [1,1,0,0,0,0,0,0,0,0,0,0,0,0,0,0,1,1,1,1,0,0,1,1,0,0,1,0],\n",
    "            [1,1,0,0,0,0,0,0,0,0,0,0,0,0,0,0,1,1,1,1,0,0,1,1,0,0,1,0],\n",
    "            [1,1,0,0,0,0,0,0,0,0,0,0,0,0,0,0,1,1,0,0,0,0,1,1,0,0,1,0],\n",
    "            [1,1,0,0,0,0,0,0,0,0,0,0,0,0,0,0,1,1,0,0,0,0,1,1,0,0,1,0],\n",
    "            [1,1,1,1,1,1,1,1,1,1,1,1,1,1,1,1,1,1,1,1,1,1,1,1,1,1,1,1],\n",
    "            [1,1,1,1,1,1,1,1,1,1,1,1,1,1,1,1,1,1,1,1,1,1,1,1,1,1,1,1],\n",
    "            [1,1,0,0,0,0,0,0,0,0,0,0,0,0,0,0,1,1,0,0,0,0,1,1,0,0,1,0],\n",
    "            [1,1,0,0,0,0,0,0,0,0,0,0,0,0,0,0,1,1,0,0,0,0,1,1,0,0,1,0],\n",
    "            [1,1,0,0,0,0,0,0,0,0,0,0,0,0,0,0,1,1,0,0,0,0,1,1,0,0,1,0],\n",
    "            [1,1,0,0,0,0,0,0,0,0,0,0,0,0,0,0,1,1,0,0,0,0,1,1,0,0,1,0],\n",
    "            [1,1,0,0,0,0,0,0,0,0,0,0,0,0,0,0,1,1,0,0,0,0,1,1,0,0,1,0],\n",
    "            [1,1,0,0,0,0,1,1,0,0,0,0,0,0,0,0,1,1,0,0,1,0,1,1,0,0,1,1]])"
   ]
  },
  {
   "cell_type": "markdown",
   "id": "c794c364",
   "metadata": {},
   "source": [
    "#### www.ffpsed.fr : profondeur = 19"
   ]
  },
  {
   "cell_type": "raw",
   "id": "64228831",
   "metadata": {},
   "source": [
    ";extern;www.ffpsed.fr;www.ffpsed.fr/comite-directeur-et-commissions;www.ffpsed.fr/truite;www.ffpsed.fr/truite/accueil-presentation;www.ffpsed.fr/truite/championnats-du-monde-pont-de-cheruy-2020;www.ffpsed.fr/truite/championnat-de-france;www.ffpsed.fr/truite/saison-2019;www.ffpsed.fr/truite/saison-2020;www.ffpsed.fr/truite/reglements;www.ffpsed.fr/truite/compte-rendu-des-reunions;www.ffpsed.fr/truite/resultats;www.ffpsed.fr/truite/documentation;www.ffpsed.fr/truite/presse;www.ffpsed.fr/truite/contact;www.ffpsed.fr/calendrier;www.ffpsed.fr/licences-et-arbitres;www.ffpsed.fr/licences-et-arbitres/arbitres;www.ffpsed.fr/licences-et-arbitres/licences;www.ffpsed.fr/discipline\n",
    "\n",
    "extern;0;1;1;1;1;1;1;1;1;1;1;1;1;1;1;1;1;1;1;1\n",
    "www.ffpsed.fr;0;1;1;1;1;1;1;1;1;1;1;1;1;1;1;1;1;1;1;1\n",
    "www.ffpsed.fr/comite-directeur-et-commissions;0;1;1;1;1;1;1;1;1;1;1;1;1;1;1;1;1;1;1;1\n",
    "www.ffpsed.fr/truite;0;1;1;1;1;1;1;1;1;1;1;1;1;1;1;1;1;1;1;1\n",
    "www.ffpsed.fr/truite/accueil-presentation;0;1;1;1;1;1;1;1;1;1;1;1;1;1;1;1;1;1;1;1\n",
    "www.ffpsed.fr/truite/championnats-du-monde-pont-de-cheruy-2020;0;1;1;1;1;1;1;1;1;1;1;1;1;1;1;1;1;1;1;1\n",
    "www.ffpsed.fr/truite/championnat-de-france;0;1;1;1;1;1;1;1;1;1;1;1;1;1;1;1;1;1;1;1\n",
    "www.ffpsed.fr/truite/saison-2019;0;1;1;1;1;1;1;1;1;1;1;1;1;1;1;1;1;1;1;1\n",
    "www.ffpsed.fr/truite/saison-2020;0;1;1;1;1;1;1;1;1;1;1;1;1;1;1;1;1;1;1;1\n",
    "www.ffpsed.fr/truite/reglements;0;1;1;1;1;1;1;1;1;1;1;1;1;1;1;1;1;1;1;1\n",
    "www.ffpsed.fr/truite/compte-rendu-des-reunions;0;1;1;1;1;1;1;1;1;1;1;1;1;1;1;1;1;1;1;1\n",
    "www.ffpsed.fr/truite/resultats;0;1;1;1;1;1;1;1;1;1;1;1;1;1;1;1;1;1;1;1\n",
    "www.ffpsed.fr/truite/documentation;0;1;1;1;1;1;1;1;1;1;1;1;1;1;1;1;1;1;1;1\n",
    "www.ffpsed.fr/truite/presse;0;1;1;1;1;1;1;1;1;1;1;1;1;1;1;1;1;1;1;1\n",
    "www.ffpsed.fr/truite/contact;0;1;1;1;1;1;1;1;1;1;1;1;1;1;1;1;1;1;1;1\n",
    "www.ffpsed.fr/calendrier;0;1;1;1;1;1;1;1;1;1;1;1;1;1;1;1;1;1;1;1\n",
    "www.ffpsed.fr/licences-et-arbitres;0;1;1;1;1;1;1;1;1;1;1;1;1;1;1;1;1;1;1;1\n",
    "www.ffpsed.fr/licences-et-arbitres/arbitres;0;1;1;1;1;1;1;1;1;1;1;1;1;1;1;1;1;1;1;1\n",
    "www.ffpsed.fr/licences-et-arbitres/licences;0;1;1;1;1;1;1;1;1;1;1;1;1;1;1;1;1;1;1;1\n",
    "www.ffpsed.fr/discipline;0;1;1;1;1;1;1;1;1;1;1;1;1;1;1;1;1;1;1;1"
   ]
  },
  {
   "cell_type": "code",
   "execution_count": 20,
   "id": "4ac10c1f",
   "metadata": {},
   "outputs": [],
   "source": [
    "ffpsedMat = np.array([\n",
    "            [1,1,1,1,1,1,1,1,1,1,1,1,1,1,1,1,1,1,1],\n",
    "            [1,1,1,1,1,1,1,1,1,1,1,1,1,1,1,1,1,1,1],\n",
    "            [1,1,1,1,1,1,1,1,1,1,1,1,1,1,1,1,1,1,1],\n",
    "            [1,1,1,1,1,1,1,1,1,1,1,1,1,1,1,1,1,1,1],\n",
    "            [1,1,1,1,1,1,1,1,1,1,1,1,1,1,1,1,1,1,1],\n",
    "            [1,1,1,1,1,1,1,1,1,1,1,1,1,1,1,1,1,1,1],\n",
    "            [1,1,1,1,1,1,1,1,1,1,1,1,1,1,1,1,1,1,1],\n",
    "            [1,1,1,1,1,1,1,1,1,1,1,1,1,1,1,1,1,1,1],\n",
    "            [1,1,1,1,1,1,1,1,1,1,1,1,1,1,1,1,1,1,1],\n",
    "            [1,1,1,1,1,1,1,1,1,1,1,1,1,1,1,1,1,1,1],\n",
    "            [1,1,1,1,1,1,1,1,1,1,1,1,1,1,1,1,1,1,1],\n",
    "            [1,1,1,1,1,1,1,1,1,1,1,1,1,1,1,1,1,1,1],\n",
    "            [1,1,1,1,1,1,1,1,1,1,1,1,1,1,1,1,1,1,1],\n",
    "            [1,1,1,1,1,1,1,1,1,1,1,1,1,1,1,1,1,1,1],\n",
    "            [1,1,1,1,1,1,1,1,1,1,1,1,1,1,1,1,1,1,1],\n",
    "            [1,1,1,1,1,1,1,1,1,1,1,1,1,1,1,1,1,1,1],\n",
    "            [1,1,1,1,1,1,1,1,1,1,1,1,1,1,1,1,1,1,1],\n",
    "            [1,1,1,1,1,1,1,1,1,1,1,1,1,1,1,1,1,1,1],\n",
    "            [1,1,1,1,1,1,1,1,1,1,1,1,1,1,1,1,1,1,1]])"
   ]
  },
  {
   "cell_type": "code",
   "execution_count": 21,
   "id": "86fe7d0f",
   "metadata": {},
   "outputs": [
    {
     "name": "stdout",
     "output_type": "stream",
     "text": [
      "Google.fr : \n",
      " [0.71364458 0.30627578 0.01942885 0.40164451 0.02983461 0.04581351\n",
      " 0.01942885 0.01942885 0.01942885 0.48071753]\n",
      "Wikipedia.org : \n",
      " [0.29960542 0.29960542 0.13459441 0.13459441 0.13459441 0.13459441\n",
      " 0.14372447 0.14372447 0.13459441 0.13459441 0.13459441 0.13459441\n",
      " 0.13459441 0.13459441 0.13459441 0.14372447 0.28250526 0.28250526\n",
      " 0.17961662 0.17961662 0.14372447 0.13459441 0.28250526 0.28250526\n",
      " 0.13459441 0.13459441 0.28250526 0.14372447]\n",
      "Ffpsed.fr : \n",
      " [0.22941573 0.22941573 0.22941573 0.22941573 0.22941573 0.22941573\n",
      " 0.22941573 0.22941573 0.22941573 0.22941573 0.22941573 0.22941573\n",
      " 0.22941573 0.22941573 0.22941573 0.22941573 0.22941573 0.22941573\n",
      " 0.22941573]\n"
     ]
    }
   ],
   "source": [
    "print(\"Google.fr : \\n\",PageRank(googleMat, 0.85, 1e-10))\n",
    "print(\"Wikipedia.org : \\n\",PageRank(wikipediaMat, 0.85, 1e-10))\n",
    "print(\"Ffpsed.fr : \\n\",PageRank(ffpsedMat, 0.85, 1e-10))"
   ]
  },
  {
   "cell_type": "markdown",
   "id": "9aa991f4",
   "metadata": {},
   "source": [
    "### 2) Matrices de réseau routier"
   ]
  },
  {
   "cell_type": "markdown",
   "id": "7e35708e",
   "metadata": {},
   "source": [
    "En traduisant les réseaux routiers d'une ville en un graphe orienté, où les sommets sont des croisements et les arcs sont des routes routes, nous pouvons le traduire en matrice d'adjacence et le traiter avec l'algorithme PageRank afin d'attribuer un score à chaque sommet.\n",
    "\n",
    "Ce score représente une prévision du traffic à chaque sommet (donc chaque croisement). Obtenir le score de chaque sommet nous permettra d'identifier lesquels sont des autorités ; qui sont ainsi susceptibles de ralentir le traffic s'ils n'ont pas la capacité de laisser traverser assez de véhicules. Au contraire, on remarquera aussi lesquels ont les scores les plus bas qui sont de facto ceux sur lesquels on peut relier de nouvelles voies pour améliorer le traffic.\n",
    "\n",
    "Un réseau routier idéal aurait un score à chaque sommet presque identique ; ainsi, le traffic serait fluide puisqu'aucune concentration (autorité) n'existerait, et aucune voie ne resteraient inexploitées.\n",
    "\n",
    "L'on commencera par extraire et stocker toutes les informations nécessaires.\n",
    "\n",
    "Nous donnerons ensuite plusieurs indicateurs statistiques pour ensuite les interpréter, et ce, pour chacun des deux séries de données."
   ]
  },
  {
   "cell_type": "markdown",
   "id": "11312bec",
   "metadata": {},
   "source": [
    "##### Importation des matrices, images, noeuds"
   ]
  },
  {
   "cell_type": "code",
   "execution_count": 48,
   "id": "30a4907e",
   "metadata": {},
   "outputs": [],
   "source": [
    "gastonBergerMat =  np.load(\"./partie4/exo2/gastonBerger_Matrice.npy\")\n",
    "toulonMat = np.load(\"./partie4/exo2/toulon_Matrice.npy\")\n",
    "\n",
    "gastonBergerImg = img.imread(\"./partie4/exo2/gastonBerger.png\")\n",
    "toulonImg = img.imread(\"./partie4/exo2/toulon.png\")\n",
    "\n",
    "gastonBergerNode = np.load(\"./partie4/exo2/gastonBerger_Noeud.npy\")\n",
    "toulonNode = np.load(\"./partie4/exo2/toulon_Noeud.npy\")"
   ]
  },
  {
   "cell_type": "markdown",
   "id": "1c169dac",
   "metadata": {},
   "source": [
    "##### Récupération des scores"
   ]
  },
  {
   "cell_type": "markdown",
   "id": "285f394a",
   "metadata": {},
   "source": [
    "On utilisera un facteur d'amortissement plus faible puisque l'on traite beaucoup plus de données. Le seuil n'est pas extrêmement bas car le temps de calcul est très long."
   ]
  },
  {
   "cell_type": "code",
   "execution_count": 50,
   "id": "4a7344cd",
   "metadata": {},
   "outputs": [],
   "source": [
    "gastonBergerScore = PageRank(gastonBergerMat, 0.4, 1e-6)\n",
    "toulonScore = PageRank(toulonMat, 0.4, 1e-6)"
   ]
  },
  {
   "cell_type": "markdown",
   "id": "3ac00587",
   "metadata": {},
   "source": [
    "##### Ordre des graphes"
   ]
  },
  {
   "cell_type": "code",
   "execution_count": 51,
   "id": "286dcbb2",
   "metadata": {},
   "outputs": [
    {
     "name": "stdout",
     "output_type": "stream",
     "text": [
      "Ordre du graphe Gaston Berger : 1259\n",
      "Ordre du graphe Toulon : 1900\n"
     ]
    }
   ],
   "source": [
    "gastonBergerOrdre = gastonBergerScore.size\n",
    "toulonOrdre = toulonScore.size\n",
    "print(\"Ordre du graphe Gaston Berger :\",gastonBergerOrdre)\n",
    "print(\"Ordre du graphe Toulon :\",toulonOrdre)"
   ]
  },
  {
   "cell_type": "markdown",
   "id": "35b20cc3",
   "metadata": {},
   "source": [
    "Ces graphes ont un ordre beaucoup trop élevé. Ainsi, on ne pourra les étudier que par le biais de statistiques et de diverses visualisations."
   ]
  },
  {
   "cell_type": "markdown",
   "id": "a1613876",
   "metadata": {},
   "source": [
    "##### Quelques fonctions pour les analyses statistiques"
   ]
  },
  {
   "cell_type": "code",
   "execution_count": 82,
   "id": "2001487e",
   "metadata": {},
   "outputs": [],
   "source": [
    "def getMaxIndex (array) :\n",
    "    return np.where(array == max(array))[0][0]\n",
    "def getMinIndex (array) :\n",
    "    return np.where(array == min(array))[0][0]"
   ]
  },
  {
   "cell_type": "markdown",
   "id": "f9328d70",
   "metadata": {},
   "source": [
    "Nous commencerons par donner plusieurs indicateurs statistiques pour ensuite les interpréter, et ce, pour chacun des deux séries de données."
   ]
  },
  {
   "cell_type": "markdown",
   "id": "a1280266",
   "metadata": {},
   "source": [
    "### Gaston Berger"
   ]
  },
  {
   "cell_type": "code",
   "execution_count": 95,
   "id": "ff14745a",
   "metadata": {},
   "outputs": [
    {
     "data": {
      "image/png": "[encoded data removed]",
      "text/plain": [
       "<Figure size 432x288 with 1 Axes>"
      ]
     },
     "metadata": {
      "needs_background": "light"
     },
     "output_type": "display_data"
    }
   ],
   "source": [
    "plt.imshow(gastonBergerImg)\n",
    "plt.show()"
   ]
  },
  {
   "cell_type": "code",
   "execution_count": 94,
   "id": "6be10629",
   "metadata": {},
   "outputs": [
    {
     "name": "stdout",
     "output_type": "stream",
     "text": [
      "Moyenne : 0.026474273155435477\n",
      "Médianne : 0.022825210279851446\n",
      "   ecart : 0.0036490628755840304\n",
      "Ecart type : 0.009664059003727665\n",
      "Max : 0.06396224676322625\n",
      "   index : 228\n",
      "Min : 0.010824796313774133\n",
      "   index : 0\n",
      "Etendue : 0.05313745044945212\n"
     ]
    }
   ],
   "source": [
    "print(\"Moyenne :\", np.average(gastonBergerScore))\n",
    "print(\"Médianne :\", np.median(gastonBergerScore))\n",
    "print(\"   ecart :\", np.average(gastonBergerScore) - np.median(gastonBergerScore))\n",
    "print(\"Ecart type :\", np.std(gastonBergerScore))\n",
    "print(\"Max :\", max(gastonBergerScore))\n",
    "print(\"   index :\", getMaxIndex(gastonBergerScore))\n",
    "print(\"Min :\", min(gastonBergerScore))\n",
    "print(\"   index :\", getMinIndex(gastonBergerScore))\n",
    "print(\"Etendue :\", max(gastonBergerScore) - min(gastonBergerScore))"
   ]
  },
  {
   "cell_type": "markdown",
   "id": "0e3d45b9",
   "metadata": {},
   "source": [
    "On remarque que cette série a une très grande étendue et que la moyenne est bien supérieure à la médiane. Cela signifie qu'il existe dans le graphe concerné une ou plusieurs autorités beaucoup trop importantes, et qu'il n'y a pas vraiment d'entre-deux entre le score de cette autorité et les autres scores (très peux de valeurs entre). Ainsi, on en déduit qu'il existe certains points du réseau routier où le traffic est beaucoup plus important qu'à d'autres. "
   ]
  },
  {
   "cell_type": "markdown",
   "id": "a23a5742",
   "metadata": {},
   "source": [
    "### Toulon"
   ]
  },
  {
   "cell_type": "code",
   "execution_count": 96,
   "id": "e05fb9bf",
   "metadata": {},
   "outputs": [
    {
     "data": {
      "image/png": "[encoded data removed]",
      "text/plain": [
       "<Figure size 432x288 with 1 Axes>"
      ]
     },
     "metadata": {
      "needs_background": "light"
     },
     "output_type": "display_data"
    }
   ],
   "source": [
    "plt.imshow(toulonImg)\n",
    "plt.show()"
   ]
  },
  {
   "cell_type": "code",
   "execution_count": 93,
   "id": "20408dbf",
   "metadata": {},
   "outputs": [
    {
     "name": "stdout",
     "output_type": "stream",
     "text": [
      "Moyenne : 0.021398183068879865\n",
      "Médianne : 0.018909469657168453\n",
      "   ecart : 0.0024887134117114115\n",
      "Ecart type : 0.008272457363104838\n",
      "Max : 0.07215225256345181\n",
      "   index : 517\n",
      "Min : 0.008271043792984916\n",
      "   index : 24\n",
      "Etendue : 0.0638812087704669\n"
     ]
    }
   ],
   "source": [
    "print(\"Moyenne :\", np.average(toulonScore))\n",
    "print(\"Médianne :\", np.median(toulonScore))\n",
    "print(\"   ecart :\", np.average(toulonScore) - np.median(toulonScore))\n",
    "print(\"Ecart type :\", np.std(toulonScore))\n",
    "print(\"Max :\", max(toulonScore))\n",
    "print(\"   index :\", getMaxIndex(toulonScore))\n",
    "print(\"Min :\", min(toulonScore))\n",
    "print(\"   index :\", getMinIndex(toulonScore))\n",
    "print(\"Etendue :\", max(toulonScore) - min(toulonScore))"
   ]
  },
  {
   "cell_type": "markdown",
   "id": "80a98f6c",
   "metadata": {},
   "source": [
    "Cette fois, bien que l'étendue soit assez élevée, la moyenne est assez proche de la médiane. Cela signifie qu'il existe en effet une ou plusieurs autorités au score bien trop élevé, mais il existe plusieurs scores intermédiaires donc les scores sont assez bien répartis. Il serait quand même bénéfique à ce réseau routier d'augmenter le score des points les plus délaissés pour fluidifier le traffic."
   ]
  },
  {
   "cell_type": "markdown",
   "id": "ed973a2b",
   "metadata": {},
   "source": [
    "## Partie 5 : PageRank - calcul direct des scores et comparaison d'algorithmes"
   ]
  },
  {
   "cell_type": "markdown",
   "id": "b6f0258e",
   "metadata": {},
   "source": [
    "Par manque de temps, nous n'avons pas pu traiter cette partie, ainsi que la partie 6.\n",
    "\n",
    "Nous avons entâmé quelques recherches, notamment avec le pivot de Gauss, mais le temps restant n'a pas suffit pour arriver à une quelconque conclusion."
   ]
  },
  {
   "cell_type": "markdown",
   "id": "f7800b98",
   "metadata": {},
   "source": [
    "## Conclusion : Participations "
   ]
  },
  {
   "cell_type": "markdown",
   "id": "91153e87",
   "metadata": {},
   "source": [
    "Nous avons utilisé GitHub pour le travail en commun sur ce devoir. Ainsi, les différents commit témoignent de l'implication de chacun. Notons que nous avons découvert avec ce devoir que GitHub n'est pas un outil adéquat pour travailler en commun sur un fichier jupyter notebook ; c'est la raison des quelques commit un peu maladroits. "
   ]
  },
  {
   "cell_type": "markdown",
   "id": "5918078f",
   "metadata": {},
   "source": [
    "Lien du GitHub : https://github.com/GabrielROUGER22011455/SAE_S2_02"
   ]
  },
  {
   "cell_type": "markdown",
   "id": "016e079b",
   "metadata": {},
   "source": [
    "Pour ce qui est de la participation personnelle de chacun, il est difficile de la quantifier. En effet, cette SAE prenant place exactement en même temps qu'une autre SAE, avec des groupes identiques, la répartition des tâches était délicate. Certains se sont plus impliqués sur la S2.01, d'autres sur la S2.02 ; ainsi, nous avons décidé d'accorder malgré tout le même pourcentage de participation à chacun."
   ]
  },
  {
   "cell_type": "markdown",
   "id": "4e591a09",
   "metadata": {},
   "source": [
    "En conclusion, nous accordons à chaque membre du groupe un tier du pourcentage de participation, soit : \n",
    "\n",
    "###### Bastien Gougeard : 30%\n",
    "\n",
    "    S'est chargé du support de présentation\n",
    "\n",
    "###### Alexis Delin : 30%\n",
    "\n",
    "    A récupéré toutes les données pour la partie 4\n",
    "\n",
    "###### Gabriel Rouge : 40%\n",
    "\n",
    "    Tout le reste"
   ]
  },
  {
   "cell_type": "markdown",
   "id": "d04caf92",
   "metadata": {},
   "source": [
    "Notre groupe était supposé être composé de 4 étudiants ; or, Gavril Bosso a arrêté les cours, n'a pas été présent pour cette SAE, et ainsi n'a été indiqué nulle part sur ce rapport. "
   ]
  },
  {
   "cell_type": "code",
   "execution_count": null,
   "id": "e9e4f8ee",
   "metadata": {},
   "outputs": [],
   "source": []
  }
 ],
 "metadata": {
  "kernelspec": {
   "display_name": "Python 3 (ipykernel)",
   "language": "python",
   "name": "python3"
  },
  "language_info": {
   "codemirror_mode": {
    "name": "ipython",
    "version": 3
   },
   "file_extension": ".py",
   "mimetype": "text/x-python",
   "name": "python",
   "nbconvert_exporter": "python",
   "pygments_lexer": "ipython3",
   "version": "3.10.9"
  }
 },
 "nbformat": 4,
 "nbformat_minor": 5
}
